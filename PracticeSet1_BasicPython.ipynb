{
  "nbformat": 4,
  "nbformat_minor": 0,
  "metadata": {
    "colab": {
      "provenance": [],
      "authorship_tag": "ABX9TyO/cTByuXIqI6c5gDxcDSWZ",
      "include_colab_link": true
    },
    "kernelspec": {
      "name": "python3",
      "display_name": "Python 3"
    },
    "language_info": {
      "name": "python"
    }
  },
  "cells": [
    {
      "cell_type": "markdown",
      "metadata": {
        "id": "view-in-github",
        "colab_type": "text"
      },
      "source": [
        "<a href=\"https://colab.research.google.com/github/QaziSaim/PythonSharpen/blob/main/PracticeSet1_BasicPython.ipynb\" target=\"_parent\"><img src=\"https://colab.research.google.com/assets/colab-badge.svg\" alt=\"Open In Colab\"/></a>"
      ]
    },
    {
      "cell_type": "code",
      "execution_count": null,
      "metadata": {
        "colab": {
          "base_uri": "https://localhost:8080/"
        },
        "id": "dMvxgUbWphjD",
        "outputId": "7384f181-de1e-478e-fbf3-b6cf85ed3c14"
      },
      "outputs": [
        {
          "output_type": "stream",
          "name": "stdout",
          "text": [
            "izakmihas\n"
          ]
        }
      ],
      "source": [
        "# 1. Write a program to reverse a string.\n",
        "s = \"sahimkazi\"\n",
        "print(s[::-1])"
      ]
    },
    {
      "cell_type": "code",
      "source": [
        "# 2. Check if a string is a palindrome.\n",
        "s = \"sahimkazi\"\n",
        "if s==s[::-1]:\n",
        "  print(f\"{s} is palindrome\")\n",
        "else:\n",
        "  print(f\"{s} is not palindrome\")\n"
      ],
      "metadata": {
        "colab": {
          "base_uri": "https://localhost:8080/"
        },
        "id": "QdjC3U0OqFVF",
        "outputId": "35f7a77e-d67e-4e07-d079-b8db5e12aff0"
      },
      "execution_count": null,
      "outputs": [
        {
          "output_type": "stream",
          "name": "stdout",
          "text": [
            "sahimkazi is not palindrome\n"
          ]
        }
      ]
    },
    {
      "cell_type": "code",
      "source": [
        "# 3. Convert a string to uppercase.\n",
        "s = \"sahim kazi\"\n",
        "s=s.upper()\n",
        "print(s)"
      ],
      "metadata": {
        "colab": {
          "base_uri": "https://localhost:8080/"
        },
        "id": "V5p07LzAqY_G",
        "outputId": "429badb0-2775-4e43-eef1-55d6a7a7f908"
      },
      "execution_count": null,
      "outputs": [
        {
          "output_type": "stream",
          "name": "stdout",
          "text": [
            "SAHIM KAZI\n"
          ]
        }
      ]
    },
    {
      "cell_type": "code",
      "source": [
        "# 4. Convert a string to lowercase.\n",
        "s = \"SAHIM KAZI\"\n",
        "s = s.lower()\n",
        "print(s)"
      ],
      "metadata": {
        "colab": {
          "base_uri": "https://localhost:8080/"
        },
        "id": "tb8oWHqSqicz",
        "outputId": "9769cbeb-5c17-455e-dd0f-7125cba85a9c"
      },
      "execution_count": null,
      "outputs": [
        {
          "output_type": "stream",
          "name": "stdout",
          "text": [
            "sahim kazi\n"
          ]
        }
      ]
    },
    {
      "cell_type": "code",
      "source": [
        "# 6. Count the number of consonants in a string.\n",
        "non_consonants = \"aeiou\"\n",
        "name = \"sahim kazi\"\n",
        "count=0\n",
        "for char in name:\n",
        "  if char not in non_consonants:\n",
        "    count+=1\n",
        "print(f\"consonants counts are: {count}\")"
      ],
      "metadata": {
        "colab": {
          "base_uri": "https://localhost:8080/"
        },
        "id": "Cq2_lmdUqtN5",
        "outputId": "3ff986c1-bc3c-4ab6-8ab8-839f7704853b"
      },
      "execution_count": null,
      "outputs": [
        {
          "output_type": "stream",
          "name": "stdout",
          "text": [
            "consonants counts are: 6\n"
          ]
        }
      ]
    },
    {
      "cell_type": "code",
      "source": [
        "# 7. Remove all whitespaces from a string.\n",
        "name = \" sahim shakir ali kazi \"\n",
        "name = name.strip()\n",
        "print(name.replace(' ',\"-\"))"
      ],
      "metadata": {
        "colab": {
          "base_uri": "https://localhost:8080/"
        },
        "id": "8P52OiWKrHK0",
        "outputId": "e886317c-5956-4b8c-ff16-8c4601187119"
      },
      "execution_count": null,
      "outputs": [
        {
          "output_type": "stream",
          "name": "stdout",
          "text": [
            "sahim-shakir-ali-kazi\n"
          ]
        }
      ]
    },
    {
      "cell_type": "code",
      "source": [
        "# 8. Find the length of a string without using the `len()` function.\n",
        "name = \" sahim shakir ali kazi \"\n",
        "count = 0\n",
        "for char in name:\n",
        "  count += 1\n",
        "print(count)"
      ],
      "metadata": {
        "colab": {
          "base_uri": "https://localhost:8080/"
        },
        "id": "s0kB9r_6rpPv",
        "outputId": "d93c4715-46b7-469f-8e02-d17213c40911"
      },
      "execution_count": null,
      "outputs": [
        {
          "output_type": "stream",
          "name": "stdout",
          "text": [
            "23\n"
          ]
        }
      ]
    },
    {
      "cell_type": "code",
      "source": [
        "# 9. Check if a string contains a specific word.\n",
        "name = \"sahim shakir ali kazi\"\n",
        "word = \"sahim\"\n",
        "if word in name:\n",
        "  print(f\"{word} is present in {name}\")\n",
        "else:\n",
        "    print(f\"{word} is not present in {name}\")\n"
      ],
      "metadata": {
        "colab": {
          "base_uri": "https://localhost:8080/"
        },
        "id": "P5K8aHNLr8rB",
        "outputId": "f6e4740d-3fd7-46f7-f5a8-aaa0559e1ee8"
      },
      "execution_count": null,
      "outputs": [
        {
          "output_type": "stream",
          "name": "stdout",
          "text": [
            "sahim is present in sahim shakir ali kazi\n"
          ]
        }
      ]
    },
    {
      "cell_type": "code",
      "source": [
        "# 10. Replace a word in a string with another word.\n",
        "name = \"sahim shakir ali kazi\"\n",
        "print(f\"Before Replacing {name}\")\n",
        "name = name.replace(\"sahim\",\"saim\")\n",
        "print(f\"After Replacing {name}\")"
      ],
      "metadata": {
        "colab": {
          "base_uri": "https://localhost:8080/"
        },
        "id": "6hamIeq5sEb7",
        "outputId": "9a086f9f-976b-42f0-c9f1-4cbf16406598"
      },
      "execution_count": null,
      "outputs": [
        {
          "output_type": "stream",
          "name": "stdout",
          "text": [
            "Before Replacing sahim shakir ali kazi\n",
            "After Replacing saim shakir ali kazi\n"
          ]
        }
      ]
    },
    {
      "cell_type": "code",
      "source": [
        "# 11. Count the occurrences of a word in a string.\n",
        "name = \"sahim shakir ali kazi, kazi sahim shakir ali\"\n",
        "word = \"sahim\"\n",
        "print(f\"occurance of word: {word} = {name.count(word)}\")"
      ],
      "metadata": {
        "colab": {
          "base_uri": "https://localhost:8080/"
        },
        "id": "WEcvTpK3shh3",
        "outputId": "024d33da-83d9-42a6-dd9d-de1a3f10f0d5"
      },
      "execution_count": null,
      "outputs": [
        {
          "output_type": "stream",
          "name": "stdout",
          "text": [
            "occurance of word: sahim = 2\n"
          ]
        }
      ]
    },
    {
      "cell_type": "code",
      "source": [
        "# 12. Find the first occurrence of a word in a string.\n",
        "name = \"sahim shakir ali kazi\"\n",
        "# transname = str.maketrans('s','p')\n",
        "# print(name.translate(transname))\n",
        "firts_word =  name.split(' ')[0]\n",
        "print(firts_word)"
      ],
      "metadata": {
        "id": "n3QnVo9js2qN",
        "colab": {
          "base_uri": "https://localhost:8080/"
        },
        "outputId": "6ffe0ea9-d68d-44c7-cff3-711adcea663d"
      },
      "execution_count": null,
      "outputs": [
        {
          "output_type": "stream",
          "name": "stdout",
          "text": [
            "sahim\n"
          ]
        }
      ]
    },
    {
      "cell_type": "code",
      "source": [
        "# 13. Find the last occurrence of a word in a string.\n",
        "name = 'sahim shakir ali kazi'\n",
        "last_word = name.split(' ')[-1]\n",
        "print(f\"last occurence word is: {last_word}\")"
      ],
      "metadata": {
        "colab": {
          "base_uri": "https://localhost:8080/"
        },
        "id": "mjCTIYatIsbS",
        "outputId": "6927781d-dc68-4e98-f499-2e1265997284"
      },
      "execution_count": null,
      "outputs": [
        {
          "output_type": "stream",
          "name": "stdout",
          "text": [
            "last occurence word is: kazi\n"
          ]
        }
      ]
    },
    {
      "cell_type": "code",
      "source": [
        "# 14. Split a string into a list of words.\n",
        "name = 'sahim shakir ali kazi'\n",
        "print('splitting the list:')\n",
        "print(name.split())"
      ],
      "metadata": {
        "colab": {
          "base_uri": "https://localhost:8080/"
        },
        "id": "BnJvepJjKOTM",
        "outputId": "e3b7591a-aec1-4798-b73f-565d10eab880"
      },
      "execution_count": null,
      "outputs": [
        {
          "output_type": "stream",
          "name": "stdout",
          "text": [
            "splitting the list:\n",
            "['sahim', 'shakir', 'ali', 'kazi']\n"
          ]
        }
      ]
    },
    {
      "cell_type": "code",
      "source": [
        "# 15. Join a list of words into a string.\n",
        "linear_regression = 'linear regrssion is supervised machine learning technique.'\n",
        "linear_regression = linear_regression.split()\n",
        "print(\"Before Rejoin word into string\")\n",
        "print(linear_regression)\n",
        "print(\"After Rejoin word into string\")\n",
        "print(\" \".join(linear_regression))"
      ],
      "metadata": {
        "colab": {
          "base_uri": "https://localhost:8080/"
        },
        "id": "dKlhKrtkKUJf",
        "outputId": "959a0567-e216-4498-bbc2-3b96953676e9"
      },
      "execution_count": null,
      "outputs": [
        {
          "output_type": "stream",
          "name": "stdout",
          "text": [
            "Before Rejoin word into string\n",
            "['linear', 'regrssion', 'is', 'supervised', 'machine', 'learning', 'technique.']\n",
            "After Rejoin word into string\n",
            "linear regrssion is supervised machine learning technique.\n"
          ]
        }
      ]
    },
    {
      "cell_type": "code",
      "source": [
        "space_seprate = \"this string is seprated by [   ]\"\n",
        "_underscore_seprated = space_seprate.replace(' ',\"_\")\n",
        "print(space_seprate)\n",
        "print(_underscore_seprated)"
      ],
      "metadata": {
        "colab": {
          "base_uri": "https://localhost:8080/"
        },
        "id": "PpsfNjvbK00d",
        "outputId": "554cfa3e-ad5a-4693-9f1a-db965ebfd7e4"
      },
      "execution_count": null,
      "outputs": [
        {
          "output_type": "stream",
          "name": "stdout",
          "text": [
            "this string is seprated by [   ]\n",
            "this_string_is_seprated_by_[___]\n"
          ]
        }
      ]
    },
    {
      "cell_type": "code",
      "source": [
        "# 17. Check if a string starts with a specific word or phrase.\n",
        "shakespeare_quote = \"There is nothing either good or bad, but thinking makes it so\"\n",
        "print(shakespeare_quote.startswith('There'))"
      ],
      "metadata": {
        "colab": {
          "base_uri": "https://localhost:8080/"
        },
        "id": "AD-RpuJ6LMqv",
        "outputId": "dff76f17-afd7-49f6-eb2e-55fb93692a62"
      },
      "execution_count": null,
      "outputs": [
        {
          "output_type": "stream",
          "name": "stdout",
          "text": [
            "True\n"
          ]
        }
      ]
    },
    {
      "cell_type": "code",
      "source": [
        "# 18. Check if a string ends with a specific word or phrase.\n",
        "shakespeare_quote = \"There is nothing either good or bad, but thinking makes it so\"\n",
        "print(shakespeare_quote.endswith(' bad, but thinking makes it so'))"
      ],
      "metadata": {
        "colab": {
          "base_uri": "https://localhost:8080/"
        },
        "id": "MbIs838QL23m",
        "outputId": "a1b7d2ab-7325-4d08-f118-94c16442b6ef"
      },
      "execution_count": null,
      "outputs": [
        {
          "output_type": "stream",
          "name": "stdout",
          "text": [
            "True\n"
          ]
        }
      ]
    },
    {
      "cell_type": "code",
      "source": [
        "# 19. Convert a string to title case (e.g., \"hello world\" to \"Hello World\").\n",
        "shakespeare_quote = 'Our doubts are traitors, And make us lose the good we oft might win, By fearing to attempt.'\n",
        "print(shakespeare_quote.title())"
      ],
      "metadata": {
        "colab": {
          "base_uri": "https://localhost:8080/"
        },
        "id": "dvJLVP2mMAY_",
        "outputId": "1fa544b4-07f0-443a-a53c-09091e57e4c4"
      },
      "execution_count": null,
      "outputs": [
        {
          "output_type": "stream",
          "name": "stdout",
          "text": [
            "Our Doubts Are Traitors, And Make Us Lose The Good We Oft Might Win, By Fearing To Attempt.\n"
          ]
        }
      ]
    },
    {
      "cell_type": "code",
      "source": [
        "# 20. Find the longest word in a string.\n",
        "english_longest_word = 'The longest word in the English language, as found in major dictionaries, is pneumonoultramicroscopicsilicovolcanoconiosis'\n",
        "longest_word = english_longest_word.split(' ')\n",
        "print(max(longest_word,key=len))"
      ],
      "metadata": {
        "colab": {
          "base_uri": "https://localhost:8080/"
        },
        "id": "dmiEeY14Mya2",
        "outputId": "326e1e79-8836-4098-9ddd-ce349f4eaa70"
      },
      "execution_count": null,
      "outputs": [
        {
          "output_type": "stream",
          "name": "stdout",
          "text": [
            "pneumonoultramicroscopicsilicovolcanoconiosis\n"
          ]
        }
      ]
    },
    {
      "cell_type": "code",
      "source": [
        "# 21. Find the shortest word in a string.\n",
        "english_shortest_word = \"The shortest words in English are  I and a, each consisting of just one letter\"\n",
        "print(min(english_shortest_word.split(),key=len))"
      ],
      "metadata": {
        "colab": {
          "base_uri": "https://localhost:8080/"
        },
        "id": "LtRHtGToOTpO",
        "outputId": "4ba32972-c98d-4ba9-9fb2-1e3f4389aed9"
      },
      "execution_count": null,
      "outputs": [
        {
          "output_type": "stream",
          "name": "stdout",
          "text": [
            "I\n"
          ]
        }
      ]
    },
    {
      "cell_type": "code",
      "source": [
        "# 22. Reverse the order of words in a string.\n",
        "words = \"ssap ayinad ni\"\n",
        "words = \" \".join([n[::-1] for n in words.split()])\n",
        "print(words)"
      ],
      "metadata": {
        "id": "lT1xAMr_PF8E",
        "colab": {
          "base_uri": "https://localhost:8080/"
        },
        "outputId": "c6984729-3145-4ba9-8ea3-63ef591b4dab"
      },
      "execution_count": 4,
      "outputs": [
        {
          "output_type": "stream",
          "name": "stdout",
          "text": [
            "pass daniya in\n"
          ]
        }
      ]
    },
    {
      "cell_type": "code",
      "source": [
        "# 23. Check if a string is alphanumeric.\n",
        "email = \"emailis121@gmail.com\"\n",
        "password = \"email123\"\n",
        "print(email.isalnum())\n",
        "print(password.isalnum())"
      ],
      "metadata": {
        "id": "dUM9cliLPf9_",
        "colab": {
          "base_uri": "https://localhost:8080/"
        },
        "outputId": "c4fcb66a-c6cc-45a9-a887-074a5f21d1fc"
      },
      "execution_count": 15,
      "outputs": [
        {
          "output_type": "stream",
          "name": "stdout",
          "text": [
            "False\n",
            "True\n"
          ]
        }
      ]
    },
    {
      "cell_type": "code",
      "source": [
        "# 24. Extract all digits from a string.\n",
        "email = \"emailis121@gmail.com\"\n",
        "\n",
        "email = \" \".join([n for n in email if n.isdigit()==True])\n",
        "print(email)"
      ],
      "metadata": {
        "colab": {
          "base_uri": "https://localhost:8080/"
        },
        "id": "VWyB7U7sQ0om",
        "outputId": "a70d0eda-2a47-46ae-d418-5689ecc11c5b"
      },
      "execution_count": 22,
      "outputs": [
        {
          "output_type": "stream",
          "name": "stdout",
          "text": [
            "1 2 1\n"
          ]
        }
      ]
    },
    {
      "cell_type": "code",
      "source": [
        "# 25. Extract all alphabets from a string.\n",
        "email = \"email.ogr.in\"\n",
        "email = \" \".join([n for n in email if n.isalpha()==True])\n",
        "print(email)"
      ],
      "metadata": {
        "colab": {
          "base_uri": "https://localhost:8080/"
        },
        "id": "mlO2yj6iSDfw",
        "outputId": "54eba4d5-3d88-40af-90fd-702b94226d53"
      },
      "execution_count": 25,
      "outputs": [
        {
          "output_type": "stream",
          "name": "stdout",
          "text": [
            "e m a i l o g r i n\n"
          ]
        }
      ]
    },
    {
      "cell_type": "code",
      "source": [
        "# 26. Count the number of uppercase letters in a string.\n",
        "fullname = \"Kazi Sahim Shakir Ali\"\n",
        "fullname = len([n for n in fullname if n.isupper()])\n",
        "print(\"Number of uppercase char are \",fullname)"
      ],
      "metadata": {
        "colab": {
          "base_uri": "https://localhost:8080/"
        },
        "id": "D_IS2ZsSSh3f",
        "outputId": "9acb9079-1d88-4396-c71b-cf6ea0c7c96a"
      },
      "execution_count": 34,
      "outputs": [
        {
          "output_type": "stream",
          "name": "stdout",
          "text": [
            "Number of uppercase char are  4\n"
          ]
        }
      ]
    },
    {
      "cell_type": "code",
      "source": [
        "# 27. Count the number of lowercase letters in a string.\n",
        "fullname = \"Kazi Sahim Shakir Ali\"\n",
        "fullname = len([n for n in fullname if n.islower()])\n",
        "print(\"Number of lower char are \",fullname)"
      ],
      "metadata": {
        "colab": {
          "base_uri": "https://localhost:8080/"
        },
        "id": "7gpgnhkmTDFJ",
        "outputId": "a83c1cc9-c95a-43b9-c04a-91736440bf18"
      },
      "execution_count": 36,
      "outputs": [
        {
          "output_type": "stream",
          "name": "stdout",
          "text": [
            "Number of lower char are  14\n"
          ]
        }
      ]
    },
    {
      "cell_type": "code",
      "source": [
        "# 28. Swap the case of each character in a string.\n",
        "fullname = \"Kazi Sahim Shakir Ali\"\n",
        "print(\"After Swapping the case \",fullname.swapcase())"
      ],
      "metadata": {
        "colab": {
          "base_uri": "https://localhost:8080/"
        },
        "id": "JL73avR9TvCe",
        "outputId": "088f732b-8d92-4c2d-bd5e-86658567a2c1"
      },
      "execution_count": 38,
      "outputs": [
        {
          "output_type": "stream",
          "name": "stdout",
          "text": [
            "After Swapping the case  kAZI sAHIM sHAKIR aLI\n"
          ]
        }
      ]
    },
    {
      "cell_type": "code",
      "source": [
        "# 29. Remove a specific word from a string.\n",
        "story=\"The once upon a time there is a king in the place of jungle that no one no who is this shit\"\n",
        "story=story.replace('shit','great king')\n",
        "print(story)"
      ],
      "metadata": {
        "colab": {
          "base_uri": "https://localhost:8080/"
        },
        "id": "LpSh2A_5UQs9",
        "outputId": "1186f04f-23c7-45d8-852d-288e55fbd0a6"
      },
      "execution_count": 39,
      "outputs": [
        {
          "output_type": "stream",
          "name": "stdout",
          "text": [
            "The once upon a time there is a king in the place of jungle that no one no who is this great king\n"
          ]
        }
      ]
    },
    {
      "cell_type": "code",
      "source": [
        "# 30. Check if a string is a valid email address.\n",
        "gmail = \"valid121gmail@gmail.com\"\n",
        "gmail."
      ],
      "metadata": {
        "colab": {
          "base_uri": "https://localhost:8080/"
        },
        "id": "j6e04tPiUxEj",
        "outputId": "46a68704-f166-4344-9faa-96bd1b80ef91"
      },
      "execution_count": 43,
      "outputs": [
        {
          "output_type": "stream",
          "name": "stdout",
          "text": [
            "email is valid valid121gmail@gmail.com\n"
          ]
        }
      ]
    },
    {
      "cell_type": "code",
      "source": [],
      "metadata": {
        "id": "zs9rPoQBX2Yk"
      },
      "execution_count": null,
      "outputs": []
    }
  ]
}