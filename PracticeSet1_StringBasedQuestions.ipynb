{
  "nbformat": 4,
  "nbformat_minor": 0,
  "metadata": {
    "colab": {
      "provenance": [],
      "authorship_tag": "ABX9TyMM4FiKmb+gKagLY3FJXM9C",
      "include_colab_link": true
    },
    "kernelspec": {
      "name": "python3",
      "display_name": "Python 3"
    },
    "language_info": {
      "name": "python"
    }
  },
  "cells": [
    {
      "cell_type": "markdown",
      "metadata": {
        "id": "view-in-github",
        "colab_type": "text"
      },
      "source": [
        "<a href=\"https://colab.research.google.com/github/QaziSaim/PythonSharpen/blob/main/PracticeSet1_StringBasedQuestions.ipynb\" target=\"_parent\"><img src=\"https://colab.research.google.com/assets/colab-badge.svg\" alt=\"Open In Colab\"/></a>"
      ]
    },
    {
      "cell_type": "code",
      "execution_count": null,
      "metadata": {
        "colab": {
          "base_uri": "https://localhost:8080/"
        },
        "id": "dMvxgUbWphjD",
        "outputId": "7384f181-de1e-478e-fbf3-b6cf85ed3c14"
      },
      "outputs": [
        {
          "output_type": "stream",
          "name": "stdout",
          "text": [
            "izakmihas\n"
          ]
        }
      ],
      "source": [
        "# 1. Write a program to reverse a string.\n",
        "s = \"sahimkazi\"\n",
        "print(s[::-1])"
      ]
    },
    {
      "cell_type": "code",
      "source": [
        "# 2. Check if a string is a palindrome.\n",
        "s = \"sahimkazi\"\n",
        "if s==s[::-1]:\n",
        "  print(f\"{s} is palindrome\")\n",
        "else:\n",
        "  print(f\"{s} is not palindrome\")\n"
      ],
      "metadata": {
        "colab": {
          "base_uri": "https://localhost:8080/"
        },
        "id": "QdjC3U0OqFVF",
        "outputId": "35f7a77e-d67e-4e07-d079-b8db5e12aff0"
      },
      "execution_count": null,
      "outputs": [
        {
          "output_type": "stream",
          "name": "stdout",
          "text": [
            "sahimkazi is not palindrome\n"
          ]
        }
      ]
    },
    {
      "cell_type": "code",
      "source": [
        "# 3. Convert a string to uppercase.\n",
        "s = \"sahim kazi\"\n",
        "s=s.upper()\n",
        "print(s)"
      ],
      "metadata": {
        "colab": {
          "base_uri": "https://localhost:8080/"
        },
        "id": "V5p07LzAqY_G",
        "outputId": "429badb0-2775-4e43-eef1-55d6a7a7f908"
      },
      "execution_count": null,
      "outputs": [
        {
          "output_type": "stream",
          "name": "stdout",
          "text": [
            "SAHIM KAZI\n"
          ]
        }
      ]
    },
    {
      "cell_type": "code",
      "source": [
        "# 4. Convert a string to lowercase.\n",
        "s = \"SAHIM KAZI\"\n",
        "s = s.lower()\n",
        "print(s)"
      ],
      "metadata": {
        "colab": {
          "base_uri": "https://localhost:8080/"
        },
        "id": "tb8oWHqSqicz",
        "outputId": "9769cbeb-5c17-455e-dd0f-7125cba85a9c"
      },
      "execution_count": null,
      "outputs": [
        {
          "output_type": "stream",
          "name": "stdout",
          "text": [
            "sahim kazi\n"
          ]
        }
      ]
    },
    {
      "cell_type": "code",
      "source": [
        "# 6. Count the number of consonants in a string.\n",
        "non_consonants = \"aeiou\"\n",
        "name = \"sahim kazi\"\n",
        "count=0\n",
        "for char in name:\n",
        "  if char not in non_consonants:\n",
        "    count+=1\n",
        "print(f\"consonants counts are: {count}\")"
      ],
      "metadata": {
        "colab": {
          "base_uri": "https://localhost:8080/"
        },
        "id": "Cq2_lmdUqtN5",
        "outputId": "3ff986c1-bc3c-4ab6-8ab8-839f7704853b"
      },
      "execution_count": null,
      "outputs": [
        {
          "output_type": "stream",
          "name": "stdout",
          "text": [
            "consonants counts are: 6\n"
          ]
        }
      ]
    },
    {
      "cell_type": "code",
      "source": [
        "# 7. Remove all whitespaces from a string.\n",
        "name = \" sahim shakir ali kazi \"\n",
        "name = name.strip()\n",
        "print(name.replace(' ',\"-\"))"
      ],
      "metadata": {
        "colab": {
          "base_uri": "https://localhost:8080/"
        },
        "id": "8P52OiWKrHK0",
        "outputId": "e886317c-5956-4b8c-ff16-8c4601187119"
      },
      "execution_count": null,
      "outputs": [
        {
          "output_type": "stream",
          "name": "stdout",
          "text": [
            "sahim-shakir-ali-kazi\n"
          ]
        }
      ]
    },
    {
      "cell_type": "code",
      "source": [
        "# 8. Find the length of a string without using the `len()` function.\n",
        "name = \" sahim shakir ali kazi \"\n",
        "count = 0\n",
        "for char in name:\n",
        "  count += 1\n",
        "print(count)"
      ],
      "metadata": {
        "colab": {
          "base_uri": "https://localhost:8080/"
        },
        "id": "s0kB9r_6rpPv",
        "outputId": "d93c4715-46b7-469f-8e02-d17213c40911"
      },
      "execution_count": null,
      "outputs": [
        {
          "output_type": "stream",
          "name": "stdout",
          "text": [
            "23\n"
          ]
        }
      ]
    },
    {
      "cell_type": "code",
      "source": [
        "# 9. Check if a string contains a specific word.\n",
        "name = \"sahim shakir ali kazi\"\n",
        "word = \"sahim\"\n",
        "if word in name:\n",
        "  print(f\"{word} is present in {name}\")\n",
        "else:\n",
        "    print(f\"{word} is not present in {name}\")\n"
      ],
      "metadata": {
        "colab": {
          "base_uri": "https://localhost:8080/"
        },
        "id": "P5K8aHNLr8rB",
        "outputId": "f6e4740d-3fd7-46f7-f5a8-aaa0559e1ee8"
      },
      "execution_count": null,
      "outputs": [
        {
          "output_type": "stream",
          "name": "stdout",
          "text": [
            "sahim is present in sahim shakir ali kazi\n"
          ]
        }
      ]
    },
    {
      "cell_type": "code",
      "source": [
        "# 10. Replace a word in a string with another word.\n",
        "name = \"sahim shakir ali kazi\"\n",
        "print(f\"Before Replacing {name}\")\n",
        "name = name.replace(\"sahim\",\"saim\")\n",
        "print(f\"After Replacing {name}\")"
      ],
      "metadata": {
        "colab": {
          "base_uri": "https://localhost:8080/"
        },
        "id": "6hamIeq5sEb7",
        "outputId": "9a086f9f-976b-42f0-c9f1-4cbf16406598"
      },
      "execution_count": null,
      "outputs": [
        {
          "output_type": "stream",
          "name": "stdout",
          "text": [
            "Before Replacing sahim shakir ali kazi\n",
            "After Replacing saim shakir ali kazi\n"
          ]
        }
      ]
    },
    {
      "cell_type": "code",
      "source": [
        "# 11. Count the occurrences of a word in a string.\n",
        "name = \"sahim shakir ali kazi, kazi sahim shakir ali\"\n",
        "word = \"sahim\"\n",
        "print(f\"occurance of word: {word} = {name.count(word)}\")"
      ],
      "metadata": {
        "colab": {
          "base_uri": "https://localhost:8080/"
        },
        "id": "WEcvTpK3shh3",
        "outputId": "024d33da-83d9-42a6-dd9d-de1a3f10f0d5"
      },
      "execution_count": null,
      "outputs": [
        {
          "output_type": "stream",
          "name": "stdout",
          "text": [
            "occurance of word: sahim = 2\n"
          ]
        }
      ]
    },
    {
      "cell_type": "code",
      "source": [
        "# 12. Find the first occurrence of a word in a string.\n",
        "name = \"sahim shakir ali kazi\"\n",
        "# transname = str.maketrans('s','p')\n",
        "# print(name.translate(transname))\n",
        "firts_word =  name.split(' ')[0]\n",
        "print(firts_word)"
      ],
      "metadata": {
        "id": "n3QnVo9js2qN",
        "colab": {
          "base_uri": "https://localhost:8080/"
        },
        "outputId": "6ffe0ea9-d68d-44c7-cff3-711adcea663d"
      },
      "execution_count": null,
      "outputs": [
        {
          "output_type": "stream",
          "name": "stdout",
          "text": [
            "sahim\n"
          ]
        }
      ]
    },
    {
      "cell_type": "code",
      "source": [
        "# 13. Find the last occurrence of a word in a string.\n",
        "name = 'sahim shakir ali kazi'\n",
        "last_word = name.split(' ')[-1]\n",
        "print(f\"last occurence word is: {last_word}\")"
      ],
      "metadata": {
        "colab": {
          "base_uri": "https://localhost:8080/"
        },
        "id": "mjCTIYatIsbS",
        "outputId": "6927781d-dc68-4e98-f499-2e1265997284"
      },
      "execution_count": null,
      "outputs": [
        {
          "output_type": "stream",
          "name": "stdout",
          "text": [
            "last occurence word is: kazi\n"
          ]
        }
      ]
    },
    {
      "cell_type": "code",
      "source": [
        "# 14. Split a string into a list of words.\n",
        "name = 'sahim shakir ali kazi'\n",
        "print('splitting the list:')\n",
        "print(name.split())"
      ],
      "metadata": {
        "colab": {
          "base_uri": "https://localhost:8080/"
        },
        "id": "BnJvepJjKOTM",
        "outputId": "e3b7591a-aec1-4798-b73f-565d10eab880"
      },
      "execution_count": null,
      "outputs": [
        {
          "output_type": "stream",
          "name": "stdout",
          "text": [
            "splitting the list:\n",
            "['sahim', 'shakir', 'ali', 'kazi']\n"
          ]
        }
      ]
    },
    {
      "cell_type": "code",
      "source": [
        "# 15. Join a list of words into a string.\n",
        "linear_regression = 'linear regrssion is supervised machine learning technique.'\n",
        "linear_regression = linear_regression.split()\n",
        "print(\"Before Rejoin word into string\")\n",
        "print(linear_regression)\n",
        "print(\"After Rejoin word into string\")\n",
        "print(\" \".join(linear_regression))"
      ],
      "metadata": {
        "colab": {
          "base_uri": "https://localhost:8080/"
        },
        "id": "dKlhKrtkKUJf",
        "outputId": "959a0567-e216-4498-bbc2-3b96953676e9"
      },
      "execution_count": null,
      "outputs": [
        {
          "output_type": "stream",
          "name": "stdout",
          "text": [
            "Before Rejoin word into string\n",
            "['linear', 'regrssion', 'is', 'supervised', 'machine', 'learning', 'technique.']\n",
            "After Rejoin word into string\n",
            "linear regrssion is supervised machine learning technique.\n"
          ]
        }
      ]
    },
    {
      "cell_type": "code",
      "source": [
        "space_seprate = \"this string is seprated by [   ]\"\n",
        "_underscore_seprated = space_seprate.replace(' ',\"_\")\n",
        "print(space_seprate)\n",
        "print(_underscore_seprated)"
      ],
      "metadata": {
        "colab": {
          "base_uri": "https://localhost:8080/"
        },
        "id": "PpsfNjvbK00d",
        "outputId": "554cfa3e-ad5a-4693-9f1a-db965ebfd7e4"
      },
      "execution_count": null,
      "outputs": [
        {
          "output_type": "stream",
          "name": "stdout",
          "text": [
            "this string is seprated by [   ]\n",
            "this_string_is_seprated_by_[___]\n"
          ]
        }
      ]
    },
    {
      "cell_type": "code",
      "source": [
        "# 17. Check if a string starts with a specific word or phrase.\n",
        "shakespeare_quote = \"There is nothing either good or bad, but thinking makes it so\"\n",
        "print(shakespeare_quote.startswith('There'))"
      ],
      "metadata": {
        "colab": {
          "base_uri": "https://localhost:8080/"
        },
        "id": "AD-RpuJ6LMqv",
        "outputId": "dff76f17-afd7-49f6-eb2e-55fb93692a62"
      },
      "execution_count": null,
      "outputs": [
        {
          "output_type": "stream",
          "name": "stdout",
          "text": [
            "True\n"
          ]
        }
      ]
    },
    {
      "cell_type": "code",
      "source": [
        "# 18. Check if a string ends with a specific word or phrase.\n",
        "shakespeare_quote = \"There is nothing either good or bad, but thinking makes it so\"\n",
        "print(shakespeare_quote.endswith(' bad, but thinking makes it so'))"
      ],
      "metadata": {
        "colab": {
          "base_uri": "https://localhost:8080/"
        },
        "id": "MbIs838QL23m",
        "outputId": "a1b7d2ab-7325-4d08-f118-94c16442b6ef"
      },
      "execution_count": null,
      "outputs": [
        {
          "output_type": "stream",
          "name": "stdout",
          "text": [
            "True\n"
          ]
        }
      ]
    },
    {
      "cell_type": "code",
      "source": [
        "# 19. Convert a string to title case (e.g., \"hello world\" to \"Hello World\").\n",
        "shakespeare_quote = 'Our doubts are traitors, And make us lose the good we oft might win, By fearing to attempt.'\n",
        "print(shakespeare_quote.title())"
      ],
      "metadata": {
        "colab": {
          "base_uri": "https://localhost:8080/"
        },
        "id": "dvJLVP2mMAY_",
        "outputId": "1fa544b4-07f0-443a-a53c-09091e57e4c4"
      },
      "execution_count": null,
      "outputs": [
        {
          "output_type": "stream",
          "name": "stdout",
          "text": [
            "Our Doubts Are Traitors, And Make Us Lose The Good We Oft Might Win, By Fearing To Attempt.\n"
          ]
        }
      ]
    },
    {
      "cell_type": "code",
      "source": [
        "# 20. Find the longest word in a string.\n",
        "english_longest_word = 'The longest word in the English language, as found in major dictionaries, is pneumonoultramicroscopicsilicovolcanoconiosis'\n",
        "longest_word = english_longest_word.split(' ')\n",
        "print(max(longest_word,key=len))"
      ],
      "metadata": {
        "colab": {
          "base_uri": "https://localhost:8080/"
        },
        "id": "dmiEeY14Mya2",
        "outputId": "326e1e79-8836-4098-9ddd-ce349f4eaa70"
      },
      "execution_count": null,
      "outputs": [
        {
          "output_type": "stream",
          "name": "stdout",
          "text": [
            "pneumonoultramicroscopicsilicovolcanoconiosis\n"
          ]
        }
      ]
    },
    {
      "cell_type": "code",
      "source": [
        "# 21. Find the shortest word in a string.\n",
        "english_shortest_word = \"The shortest words in English are  I and a, each consisting of just one letter\"\n",
        "print(min(english_shortest_word.split(),key=len))"
      ],
      "metadata": {
        "colab": {
          "base_uri": "https://localhost:8080/"
        },
        "id": "LtRHtGToOTpO",
        "outputId": "4ba32972-c98d-4ba9-9fb2-1e3f4389aed9"
      },
      "execution_count": null,
      "outputs": [
        {
          "output_type": "stream",
          "name": "stdout",
          "text": [
            "I\n"
          ]
        }
      ]
    },
    {
      "cell_type": "code",
      "source": [
        "# 22. Reverse the order of words in a string.\n",
        "words = \"ssap ayinad ni\"\n",
        "words = \" \".join([n[::-1] for n in words.split()])\n",
        "print(words)"
      ],
      "metadata": {
        "id": "lT1xAMr_PF8E",
        "colab": {
          "base_uri": "https://localhost:8080/"
        },
        "outputId": "c6984729-3145-4ba9-8ea3-63ef591b4dab"
      },
      "execution_count": null,
      "outputs": [
        {
          "output_type": "stream",
          "name": "stdout",
          "text": [
            "pass daniya in\n"
          ]
        }
      ]
    },
    {
      "cell_type": "code",
      "source": [
        "# 23. Check if a string is alphanumeric.\n",
        "email = \"emailis121@gmail.com\"\n",
        "password = \"email123\"\n",
        "print(email.isalnum())\n",
        "print(password.isalnum())"
      ],
      "metadata": {
        "id": "dUM9cliLPf9_",
        "colab": {
          "base_uri": "https://localhost:8080/"
        },
        "outputId": "c4fcb66a-c6cc-45a9-a887-074a5f21d1fc"
      },
      "execution_count": null,
      "outputs": [
        {
          "output_type": "stream",
          "name": "stdout",
          "text": [
            "False\n",
            "True\n"
          ]
        }
      ]
    },
    {
      "cell_type": "code",
      "source": [
        "# 24. Extract all digits from a string.\n",
        "email = \"emailis121@gmail.com\"\n",
        "\n",
        "email = \" \".join([n for n in email if n.isdigit()==True])\n",
        "print(email)"
      ],
      "metadata": {
        "colab": {
          "base_uri": "https://localhost:8080/"
        },
        "id": "VWyB7U7sQ0om",
        "outputId": "a70d0eda-2a47-46ae-d418-5689ecc11c5b"
      },
      "execution_count": null,
      "outputs": [
        {
          "output_type": "stream",
          "name": "stdout",
          "text": [
            "1 2 1\n"
          ]
        }
      ]
    },
    {
      "cell_type": "code",
      "source": [
        "# 25. Extract all alphabets from a string.\n",
        "email = \"email.ogr.in\"\n",
        "email = \" \".join([n for n in email if n.isalpha()==True])\n",
        "print(email)"
      ],
      "metadata": {
        "colab": {
          "base_uri": "https://localhost:8080/"
        },
        "id": "mlO2yj6iSDfw",
        "outputId": "54eba4d5-3d88-40af-90fd-702b94226d53"
      },
      "execution_count": null,
      "outputs": [
        {
          "output_type": "stream",
          "name": "stdout",
          "text": [
            "e m a i l o g r i n\n"
          ]
        }
      ]
    },
    {
      "cell_type": "code",
      "source": [
        "# 26. Count the number of uppercase letters in a string.\n",
        "fullname = \"Kazi Sahim Shakir Ali\"\n",
        "fullname = len([n for n in fullname if n.isupper()])\n",
        "print(\"Number of uppercase char are \",fullname)"
      ],
      "metadata": {
        "colab": {
          "base_uri": "https://localhost:8080/"
        },
        "id": "D_IS2ZsSSh3f",
        "outputId": "9acb9079-1d88-4396-c71b-cf6ea0c7c96a"
      },
      "execution_count": null,
      "outputs": [
        {
          "output_type": "stream",
          "name": "stdout",
          "text": [
            "Number of uppercase char are  4\n"
          ]
        }
      ]
    },
    {
      "cell_type": "code",
      "source": [
        "# 27. Count the number of lowercase letters in a string.\n",
        "fullname = \"Kazi Sahim Shakir Ali\"\n",
        "fullname = len([n for n in fullname if n.islower()])\n",
        "print(\"Number of lower char are \",fullname)"
      ],
      "metadata": {
        "colab": {
          "base_uri": "https://localhost:8080/"
        },
        "id": "7gpgnhkmTDFJ",
        "outputId": "a83c1cc9-c95a-43b9-c04a-91736440bf18"
      },
      "execution_count": null,
      "outputs": [
        {
          "output_type": "stream",
          "name": "stdout",
          "text": [
            "Number of lower char are  14\n"
          ]
        }
      ]
    },
    {
      "cell_type": "code",
      "source": [
        "# 28. Swap the case of each character in a string.\n",
        "fullname = \"Kazi Sahim Shakir Ali\"\n",
        "print(\"After Swapping the case \",fullname.swapcase())"
      ],
      "metadata": {
        "colab": {
          "base_uri": "https://localhost:8080/"
        },
        "id": "JL73avR9TvCe",
        "outputId": "088f732b-8d92-4c2d-bd5e-86658567a2c1"
      },
      "execution_count": null,
      "outputs": [
        {
          "output_type": "stream",
          "name": "stdout",
          "text": [
            "After Swapping the case  kAZI sAHIM sHAKIR aLI\n"
          ]
        }
      ]
    },
    {
      "cell_type": "code",
      "source": [
        "# 29. Remove a specific word from a string.\n",
        "story=\"The once upon a time there is a king in the place of jungle that no one no who is this shit\"\n",
        "story=story.replace('shit','great king')\n",
        "print(story)"
      ],
      "metadata": {
        "colab": {
          "base_uri": "https://localhost:8080/"
        },
        "id": "LpSh2A_5UQs9",
        "outputId": "1186f04f-23c7-45d8-852d-288e55fbd0a6"
      },
      "execution_count": null,
      "outputs": [
        {
          "output_type": "stream",
          "name": "stdout",
          "text": [
            "The once upon a time there is a king in the place of jungle that no one no who is this great king\n"
          ]
        }
      ]
    },
    {
      "cell_type": "code",
      "source": [
        "import re\n",
        "\n",
        "regex = r'\\b[A-Za-z0-9._%+-]+@[A-Za-z0-9.-]+\\.[A-Z|a-z]{2,7}\\b'\n",
        "\n",
        "def check(email):\n",
        "\n",
        "    # pass the regular expression\n",
        "    # and the string into the fullmatch() method\n",
        "    if(re.fullmatch(regex, email)):\n",
        "        print(\"Valid Email\")\n",
        "\n",
        "    else:\n",
        "        print(\"Invalid Email\")\n",
        "\n",
        "# Driver Code\n",
        "if __name__ == '__main__':\n",
        "\n",
        "    # Enter the email\n",
        "    email = \"ankitrai326@gmail.com\"\n",
        "\n",
        "    # calling run function\n",
        "    check(email)\n",
        "\n",
        "    email = \"my.ownsite@our-earth.org\"\n",
        "    check(email)\n",
        "\n",
        "    email = \"ankitrai326.com\"\n",
        "    check(email)"
      ],
      "metadata": {
        "colab": {
          "base_uri": "https://localhost:8080/"
        },
        "id": "j6e04tPiUxEj",
        "outputId": "aef50fc6-7ad4-4a18-f66b-0ded06aba8ca"
      },
      "execution_count": null,
      "outputs": [
        {
          "output_type": "stream",
          "name": "stdout",
          "text": [
            "Valid Email\n",
            "Valid Email\n",
            "Invalid Email\n"
          ]
        }
      ]
    },
    {
      "cell_type": "code",
      "source": [
        "# 31. Extract the username from an email address string.\n",
        "email_address = '9987.khanmuzammil@gmail.com'\n",
        "adract_index = email_address[0:email_address.index('@')]\n",
        "# print(adract_index)\n",
        "email_address = [n for n in adract_index if n.isalpha()]\n",
        "print(\"\".join(email_address))"
      ],
      "metadata": {
        "id": "zs9rPoQBX2Yk",
        "colab": {
          "base_uri": "https://localhost:8080/"
        },
        "outputId": "ef802b30-d56a-4a2d-ca62-c65d6861a18e"
      },
      "execution_count": 15,
      "outputs": [
        {
          "output_type": "stream",
          "name": "stdout",
          "text": [
            "khanmuzammil\n"
          ]
        }
      ]
    },
    {
      "cell_type": "code",
      "source": [
        "# 32. Extract the domain name from an email address string.\n",
        "email_address = '9987.khanmuzammil@gmail.com'\n",
        "print(email_address[-1:email_address.index('.c')])"
      ],
      "metadata": {
        "id": "iywZo33VibWG",
        "colab": {
          "base_uri": "https://localhost:8080/"
        },
        "outputId": "00d5597b-6266-45f2-9f6a-85a1efb4d757"
      },
      "execution_count": 16,
      "outputs": [
        {
          "output_type": "stream",
          "name": "stdout",
          "text": [
            "\n"
          ]
        }
      ]
    },
    {
      "cell_type": "code",
      "source": [
        "# 33. Replace multiple space in a string with a single space.\n",
        "name = 'kazi          sahim              shakir            ali'\n",
        "name = name.split()\n",
        "name=\" \".join(name)\n",
        "print(name)"
      ],
      "metadata": {
        "id": "K0BT7Lspibrf",
        "colab": {
          "base_uri": "https://localhost:8080/"
        },
        "outputId": "a31809d3-b86c-4773-f693-4157e2f76f52"
      },
      "execution_count": 3,
      "outputs": [
        {
          "output_type": "stream",
          "name": "stdout",
          "text": [
            "kazi sahim shakir ali\n"
          ]
        }
      ]
    },
    {
      "cell_type": "code",
      "source": [
        "# 34. Check if a string is valid URL.\n",
        "google_url = \"https://www.google.com\"\n",
        "for url in range(len(google_url)):\n",
        "  if google_url.startswith(\"https://www.\"):\n",
        "    if google_url.endswith('.com') or google_url.endswith('.net') or google_url.endswith('.gov'):\n",
        "      print('valid url')\n",
        "      break\n",
        "    else:\n",
        "      print('invalid url')\n",
        "      break\n",
        "\n",
        "  else:\n",
        "    print('url not exists')\n",
        "    break"
      ],
      "metadata": {
        "id": "bb3CRpEnib8w"
      },
      "execution_count": null,
      "outputs": []
    },
    {
      "cell_type": "code",
      "source": [
        "# 35. Extract the protocol (http or https) from a URL string.\n",
        "google = \"https://www.google.com\"\n",
        "youtube = \"https://www.youtube.com\"\n",
        "facebook = \"http://www.facebook.com\"\n",
        "google_https = google.replace('https','')\n",
        "youtube_https = youtube.replace('https','')\n",
        "facebook_http = facebook.replace('http','')\n",
        "print(\"with\")\n",
        "print(google)\n",
        "print(youtube)\n",
        "print(facebook)\n",
        "print(\"without\")\n",
        "print(google_https)\n",
        "print(youtube_https)\n",
        "print(facebook_http)"
      ],
      "metadata": {
        "colab": {
          "base_uri": "https://localhost:8080/"
        },
        "id": "j7nLkdFYifcm",
        "outputId": "d41c8f2f-5dc9-4241-f7af-f61016d6b090"
      },
      "execution_count": null,
      "outputs": [
        {
          "output_type": "stream",
          "name": "stdout",
          "text": [
            "with\n",
            "https://www.google.com\n",
            "https://www.youtube.com\n",
            "http://www.facebook.com\n",
            "without\n",
            "://www.google.com\n",
            "://www.youtube.com\n",
            "://www.facebook.com\n"
          ]
        }
      ]
    },
    {
      "cell_type": "code",
      "source": [
        "# 36. Find the frequency of each character in a string.\n",
        "biography_hitler = \"Adolf Hitler (April 20, 1889 - April 30, 1945) was appointed chancellor of Germany in 1933 following a series of electoral victories by the Nazi Party. He ruled absolutely until his death by suicide in April 1945.\"\n",
        "biography_hitler = {n:biography_hitler.count(n) for n in biography_hitler}\n",
        "print(\"frequency of each character are in string: \")\n",
        "print(biography_hitler)"
      ],
      "metadata": {
        "colab": {
          "base_uri": "https://localhost:8080/"
        },
        "id": "_Ng9fWzaigvs",
        "outputId": "758ff72d-075f-4bf3-9a44-0deaf629cb20"
      },
      "execution_count": null,
      "outputs": [
        {
          "output_type": "stream",
          "name": "stdout",
          "text": [
            "frequency of each character are in string: \n",
            "{'A': 4, 'd': 5, 'o': 10, 'l': 15, 'f': 4, ' ': 36, 'H': 2, 'i': 16, 't': 9, 'e': 15, 'r': 11, '(': 1, 'p': 5, '2': 1, '0': 2, ',': 2, '1': 4, '8': 2, '9': 4, '-': 1, '3': 3, '4': 2, '5': 2, ')': 1, 'w': 2, 'a': 10, 's': 7, 'n': 7, 'c': 5, 'h': 4, 'G': 1, 'm': 1, 'y': 5, 'g': 1, 'v': 1, 'b': 3, 'N': 1, 'z': 1, 'P': 1, '.': 2, 'u': 4}\n"
          ]
        }
      ]
    },
    {
      "cell_type": "code",
      "source": [
        "# 37. Remove all punctuation from a string.\n",
        "import string\n",
        "biography_hitler = \"\"\"Adolf Hitler (April 20, 1889 - April 30, 1945) was appointed chancellor of Germany in 1933 following a series of electoral victories by the Nazi Party.\n",
        "  He ruled absolutely until his death by suicide in April 1945.\"\"\"\n",
        "translator = str.maketrans('','',string.punctuation)\n",
        "clean_text = biography_hitler.translate(translator)\n",
        "print(clean_text)"
      ],
      "metadata": {
        "colab": {
          "base_uri": "https://localhost:8080/"
        },
        "id": "sLcYjLJqi8c-",
        "outputId": "2d9d4d1e-cbf8-4547-a55e-2453d374138a"
      },
      "execution_count": null,
      "outputs": [
        {
          "output_type": "stream",
          "name": "stdout",
          "text": [
            "Adolf Hitler April 20 1889  April 30 1945 was appointed chancellor of Germany in 1933 following a series of electoral victories by the Nazi Party\n",
            "  He ruled absolutely until his death by suicide in April 1945\n"
          ]
        }
      ]
    },
    {
      "cell_type": "code",
      "source": [
        "# 38. Check if a string contains only digits.\n",
        "s = \"1234\"\n",
        "print(\"Do string is only contain digit\",s.isdigit())"
      ],
      "metadata": {
        "colab": {
          "base_uri": "https://localhost:8080/"
        },
        "id": "wEwZaxEWkhxs",
        "outputId": "17bdd7da-b6be-4aae-cd03-f90fc9a2a51c"
      },
      "execution_count": null,
      "outputs": [
        {
          "output_type": "stream",
          "name": "stdout",
          "text": [
            "Do string is only contain digit True\n"
          ]
        }
      ]
    },
    {
      "cell_type": "code",
      "source": [
        "# 39. Check if a string contains only alphabets.\n",
        "s = \"sahim\"\n",
        "print(\"Do string is only contain alphabet\",s.isalpha())"
      ],
      "metadata": {
        "colab": {
          "base_uri": "https://localhost:8080/"
        },
        "id": "SHIPv7M7k4Cu",
        "outputId": "65835108-db8a-4cae-ac00-4a491f309fe0"
      },
      "execution_count": null,
      "outputs": [
        {
          "output_type": "stream",
          "name": "stdout",
          "text": [
            "Do string is only contain alphabet True\n"
          ]
        }
      ]
    },
    {
      "cell_type": "code",
      "source": [
        "# 40. Convert a string to a list of characters.\n",
        "number_string = \"12345\"\n",
        "number_list = [n for n in number_string]\n",
        "print(number_string)\n",
        "print(number_list)"
      ],
      "metadata": {
        "colab": {
          "base_uri": "https://localhost:8080/"
        },
        "id": "86krBkopnrWI",
        "outputId": "49c0cac6-d73d-413d-8cc0-1f1f9e438331"
      },
      "execution_count": null,
      "outputs": [
        {
          "output_type": "stream",
          "name": "stdout",
          "text": [
            "12345\n",
            "['1', '2', '3', '4', '5']\n"
          ]
        }
      ]
    },
    {
      "cell_type": "code",
      "source": [
        "# 41. Check if two strings are anagrams.\n",
        "cheater = \"teacher\"\n",
        "teacher = \"cheater\"\n",
        "flag = False\n",
        "for char in teacher:\n",
        "  if char in cheater:\n",
        "    flag = True\n",
        "    pass\n",
        "  else:\n",
        "    print('not anagram')\n",
        "if flag==True:\n",
        "  print('anagram')\n"
      ],
      "metadata": {
        "colab": {
          "base_uri": "https://localhost:8080/"
        },
        "id": "plKv5-Ren5TK",
        "outputId": "730c0f3a-c7c4-4048-91cd-430fd5ab0f05"
      },
      "execution_count": null,
      "outputs": [
        {
          "output_type": "stream",
          "name": "stdout",
          "text": [
            "anagram\n"
          ]
        }
      ]
    },
    {
      "cell_type": "code",
      "source": [
        "# 42. Encode a string using a Caesar cipher.\n",
        "def caesar_encode(text, shift):\n",
        "    \"\"\"\n",
        "    Encodes a string using the Caesar cipher.\n",
        "\n",
        "    Args:\n",
        "        text (str): The plaintext string to encode.\n",
        "        shift (int): The number of positions to shift each letter.\n",
        "\n",
        "    Returns:\n",
        "        str: The encoded ciphertext string.\n",
        "    \"\"\"\n",
        "    result = \"\"\n",
        "    for char in text:\n",
        "        if char.isalpha():  # Check if the character is an alphabet letter\n",
        "            start = ord('a') if char.islower() else ord('A')\n",
        "            shifted_char_code = (ord(char) - start + shift) % 26 + start\n",
        "            result += chr(shifted_char_code)\n",
        "        else:\n",
        "            result += char  # Keep non-alphabetic characters as they are\n",
        "    return result\n",
        "\n",
        "# Example usage:\n",
        "plaintext = \"Hello, World!\"\n",
        "shift_value = 3\n",
        "ciphertext = caesar_encode(plaintext, shift_value)\n",
        "print(f\"Plaintext: {plaintext}\")\n",
        "print(f\"Shift: {shift_value}\")\n",
        "print(f\"Ciphertext: {ciphertext}\")\n",
        "\n",
        "plaintext_2 = \"Python is fun!\"\n",
        "shift_value_2 = 5\n",
        "ciphertext_2 = caesar_encode(plaintext_2, shift_value_2)\n",
        "print(f\"Plaintext: {plaintext_2}\")\n",
        "print(f\"Shift: {shift_value_2}\")\n",
        "print(f\"Ciphertext: {ciphertext_2}\")"
      ],
      "metadata": {
        "colab": {
          "base_uri": "https://localhost:8080/"
        },
        "id": "WBMWWhxNop5b",
        "outputId": "e2dd6137-b1cb-4a46-8bae-b67c3f44b540"
      },
      "execution_count": null,
      "outputs": [
        {
          "output_type": "stream",
          "name": "stdout",
          "text": [
            "Plaintext: Hello, World!\n",
            "Shift: 3\n",
            "Ciphertext: Khoor, Zruog!\n",
            "Plaintext: Python is fun!\n",
            "Shift: 5\n",
            "Ciphertext: Udymts nx kzs!\n"
          ]
        }
      ]
    },
    {
      "cell_type": "code",
      "source": [
        "# 43. Decode a Caesar cipher encoded string.\n",
        "def caesar_decode(text, shift):\n",
        "    \"\"\"\n",
        "    Decodes a string using the Caesar cipher.\n",
        "\n",
        "    Args:\n",
        "        text (str): The string to be decoded.\n",
        "        shift (int): The shift value used for encoding.\n",
        "\n",
        "    Returns:\n",
        "        str: The decoded string.\n",
        "    \"\"\"\n",
        "    decoded_text = \"\"\n",
        "    for char in text:\n",
        "        if 'a' <= char <= 'z':\n",
        "            # Handle lowercase letters\n",
        "            decoded_char_code = ord(char) - ord('a') - shift\n",
        "            decoded_char = chr((decoded_char_code % 26) + ord('a'))\n",
        "        elif 'A' <= char <= 'Z':\n",
        "            # Handle uppercase letters\n",
        "            decoded_char_code = ord(char) - ord('A') - shift\n",
        "            decoded_char = chr((decoded_char_code % 26) + ord('A'))\n",
        "        else:\n",
        "            # Keep non-alphabetic characters as they are\n",
        "            decoded_char = char\n",
        "        decoded_text += decoded_char\n",
        "    return decoded_text\n",
        "\n",
        "# Example usage:\n",
        "encoded_message = \"khoor\"\n",
        "shift_value = 3\n",
        "decoded_message = caesar_decode(encoded_message, shift_value)\n",
        "print(f\"Encoded: {encoded_message}, Shift: {shift_value}, Decoded: {decoded_message}\")\n",
        "\n",
        "encoded_message_upper = \"KHOOR\"\n",
        "decoded_message_upper = caesar_decode(encoded_message_upper, shift_value)\n",
        "print(f\"Encoded: {encoded_message_upper}, Shift: {shift_value}, Decoded: {decoded_message_upper}\")"
      ],
      "metadata": {
        "colab": {
          "base_uri": "https://localhost:8080/"
        },
        "id": "zERFHE6IpLyr",
        "outputId": "1c3701fc-33ff-42d6-df82-f6d057403f8c"
      },
      "execution_count": null,
      "outputs": [
        {
          "output_type": "stream",
          "name": "stdout",
          "text": [
            "Encoded: khoor, Shift: 3, Decoded: hello\n",
            "Encoded: KHOOR, Shift: 3, Decoded: HELLO\n"
          ]
        }
      ]
    },
    {
      "cell_type": "code",
      "source": [
        "# 44. Find the most frequent word in a string.\n",
        "story = \"\"\"Once, there was a hare who was best friends with a tortoise. The hare was very proud of how fast he could run, so one day, he challenged the tortoise to a race. The tortoise agreed, even though everyone thought he was way too slow to win. The race began, and the hare raced so fast that he was far ahead of the tortoise.\n",
        "\n",
        "Feeling confident, the hare decided to take a nap under a tree while the tortoise kept going, step by step. When the hare woke up, he was shocked to see the tortoise crossing the finish line. The tortoise had won the race!\n",
        "\n",
        "Moral of the story: It doesn’t matter how fast or strong you are—what matters is being steady and never giving up. And don’t be too proud, it can cause trouble!\n",
        "\"\"\"\n",
        "story = story.split(' ')\n",
        "story = {n:story.count(n) for n in story}\n",
        "sorted_story = sorted(story,key=story.get,reverse=True)\n",
        "print(f\"most frequent word in the story is: {sorted_story[0]} and count is {story[sorted_story[0]]}\")"
      ],
      "metadata": {
        "colab": {
          "base_uri": "https://localhost:8080/"
        },
        "id": "ZXO0VCdCrGLE",
        "outputId": "527f41e3-6e2c-4a9d-8da0-1e17e7f42f77"
      },
      "execution_count": null,
      "outputs": [
        {
          "output_type": "stream",
          "name": "stdout",
          "text": [
            "most frequent word in the story is: the and count is 10\n"
          ]
        }
      ]
    },
    {
      "cell_type": "code",
      "source": [
        "# 45. Find all unique words in a string.\n",
        "story = \"\"\"Once, there was a hare who was best friends with a tortoise. The hare was very proud of how fast he could run, so one day, he challenged the tortoise to a race. The tortoise agreed, even though everyone thought he was way too slow to win. The race began, and the hare raced so fast that he was far ahead of the tortoise.\n",
        "\n",
        "Feeling confident, the hare decided to take a nap under a tree while the tortoise kept going, step by step. When the hare woke up, he was shocked to see the tortoise crossing the finish line. The tortoise had won the race!\n",
        "\n",
        "Moral of the story: It doesn’t matter how fast or strong you are—what matters is being steady and never giving up. And don’t be too proud, it can cause trouble!\n",
        "\"\"\"\n",
        "story = story.split(' ')\n",
        "unique_words = [n for n in dict.fromkeys(story)]\n",
        "print(unique_words)"
      ],
      "metadata": {
        "colab": {
          "base_uri": "https://localhost:8080/"
        },
        "id": "ebiI4fpRrzBm",
        "outputId": "30737d96-578b-47db-a94d-d84717b8a1c5"
      },
      "execution_count": null,
      "outputs": [
        {
          "output_type": "stream",
          "name": "stdout",
          "text": [
            "['Once,', 'there', 'was', 'a', 'hare', 'who', 'best', 'friends', 'with', 'tortoise.', 'The', 'very', 'proud', 'of', 'how', 'fast', 'he', 'could', 'run,', 'so', 'one', 'day,', 'challenged', 'the', 'tortoise', 'to', 'race.', 'agreed,', 'even', 'though', 'everyone', 'thought', 'way', 'too', 'slow', 'win.', 'race', 'began,', 'and', 'raced', 'that', 'far', 'ahead', 'tortoise.\\n\\nFeeling', 'confident,', 'decided', 'take', 'nap', 'under', 'tree', 'while', 'kept', 'going,', 'step', 'by', 'step.', 'When', 'woke', 'up,', 'shocked', 'see', 'crossing', 'finish', 'line.', 'had', 'won', 'race!\\n\\nMoral', 'story:', 'It', 'doesn’t', 'matter', 'or', 'strong', 'you', 'are—what', 'matters', 'is', 'being', 'steady', 'never', 'giving', 'up.', 'And', 'don’t', 'be', 'proud,', 'it', 'can', 'cause', 'trouble!\\n']\n"
          ]
        }
      ]
    },
    {
      "cell_type": "code",
      "source": [
        "# 46. Count the number of syllables in a string.\n",
        "import string\n"
      ],
      "metadata": {
        "id": "ONWF_8v5r2QX"
      },
      "execution_count": null,
      "outputs": []
    },
    {
      "cell_type": "code",
      "source": [
        "# 47. Check if a string contains any special characters.\n",
        "special_char = ['`','!','~','@','#','$','%','^','&','*','?',',','.','\"',':',';','|']\n",
        "story = \"\"\"Once, there was a hare who was best friends with a tortoise. The hare was very proud of how fast he could run, so one day, he challenged the tortoise to a race. The tortoise agreed, even though everyone thought he was way too slow to win. The race began, and the hare raced so fast that he was far ahead of the tortoise.\n",
        "\n",
        "Feeling confident, the hare decided to take a nap under a tree while the tortoise kept going, step by step. When the hare woke up, he was shocked to see the tortoise crossing the finish line. The tortoise had won the race!\n",
        "\n",
        "Moral of the story: It doesn’t matter how fast or strong you are—what matters is being steady and never giving up. And don’t be too proud, it can cause trouble!\n",
        "\"\"\"\n",
        "for char in story:\n",
        "  if char in story:\n",
        "    print(True)\n",
        "    break\n",
        "  else:\n",
        "    print(False)"
      ],
      "metadata": {
        "colab": {
          "base_uri": "https://localhost:8080/"
        },
        "id": "4zMLwg3Yr2gp",
        "outputId": "c57d2181-8381-411a-ff16-59298a4d2e0c"
      },
      "execution_count": null,
      "outputs": [
        {
          "output_type": "stream",
          "name": "stdout",
          "text": [
            "True\n"
          ]
        }
      ]
    },
    {
      "cell_type": "code",
      "source": [
        "# 48. Remove the nth word from a string.\n",
        "name = \"sahim shakir yasin mouzan yasin mouzan ali kazi\"\n",
        "name = name.split(' ')\n",
        "name.remove(name[-1])\n",
        "\n",
        "print(\" \".join(name))"
      ],
      "metadata": {
        "colab": {
          "base_uri": "https://localhost:8080/"
        },
        "id": "V74Gul-Lt6_U",
        "outputId": "58accc77-5979-4854-f3ea-24d952710107"
      },
      "execution_count": null,
      "outputs": [
        {
          "output_type": "stream",
          "name": "stdout",
          "text": [
            "sahim shakir yasin mouzan yasin mouzan ali\n"
          ]
        }
      ]
    },
    {
      "cell_type": "code",
      "source": [
        "# 49. Insert a word at the nth position in a string.\n",
        "name = \"sahim shakir yasin mouzan yasin mouzan ali kazi\"\n",
        "name = name.split(' ')\n",
        "name.append(' full name is ')\n",
        "print(\" \".join(name))"
      ],
      "metadata": {
        "colab": {
          "base_uri": "https://localhost:8080/"
        },
        "id": "0SyN0gvyt6rv",
        "outputId": "9c52d3e2-e27d-4214-cba7-579e4292096b"
      },
      "execution_count": null,
      "outputs": [
        {
          "output_type": "stream",
          "name": "stdout",
          "text": [
            "sahim shakir yasin mouzan yasin mouzan ali kazi  full name is \n"
          ]
        }
      ]
    },
    {
      "cell_type": "code",
      "source": [
        "# 50. Convert a CSV string to a list of lists.\n",
        "comma_string = 'this,would,never,happend,if,i,dont,do,this'\n",
        "comma_list = comma_string.split(',')\n",
        "print(comma_list)"
      ],
      "metadata": {
        "id": "Xea9nC12vBVx",
        "colab": {
          "base_uri": "https://localhost:8080/"
        },
        "outputId": "9d23dd97-92c3-47ee-ff19-517f1c998888"
      },
      "execution_count": 2,
      "outputs": [
        {
          "output_type": "stream",
          "name": "stdout",
          "text": [
            "['this', 'would', 'never', 'happend', 'if', 'i', 'dont', 'do', 'this']\n"
          ]
        }
      ]
    },
    {
      "cell_type": "code",
      "source": [],
      "metadata": {
        "id": "2dmO20IEvG9u"
      },
      "execution_count": null,
      "outputs": []
    }
  ]
}