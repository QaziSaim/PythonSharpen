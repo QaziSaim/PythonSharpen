{
  "nbformat": 4,
  "nbformat_minor": 0,
  "metadata": {
    "colab": {
      "provenance": [],
      "authorship_tag": "ABX9TyN0Zv/VxHVFxcq0+1El9K1f",
      "include_colab_link": true
    },
    "kernelspec": {
      "name": "python3",
      "display_name": "Python 3"
    },
    "language_info": {
      "name": "python"
    }
  },
  "cells": [
    {
      "cell_type": "markdown",
      "metadata": {
        "id": "view-in-github",
        "colab_type": "text"
      },
      "source": [
        "<a href=\"https://colab.research.google.com/github/QaziSaim/PythonSharpen/blob/main/ListBased_ProblemSet_One.ipynb\" target=\"_parent\"><img src=\"https://colab.research.google.com/assets/colab-badge.svg\" alt=\"Open In Colab\"/></a>"
      ]
    },
    {
      "cell_type": "code",
      "execution_count": null,
      "metadata": {
        "colab": {
          "base_uri": "https://localhost:8080/"
        },
        "id": "HS4jptFqDLdF",
        "outputId": "d48c88f2-e02a-483f-fd8e-99d3829c939d"
      },
      "outputs": [
        {
          "output_type": "stream",
          "name": "stdout",
          "text": [
            "[1, 2, 3, 4, 5, 6, 7, 8, 9, 10]\n"
          ]
        }
      ],
      "source": [
        "# 1. Create a list with integers from 1 to 10.\n",
        "number_10 = [n for n in range(1,11)]\n",
        "print(number_10)"
      ]
    },
    {
      "cell_type": "code",
      "source": [
        "# 2. Find the length of a list without using the `len()` function.\n",
        "names = ['Sahim','Shakir','Ali','Kazi']\n",
        "count = 0\n",
        "for name in names:\n",
        "  count+=1\n",
        "print(f\"the number of elements are in list {count}\")"
      ],
      "metadata": {
        "colab": {
          "base_uri": "https://localhost:8080/"
        },
        "id": "4voTu8fKDf_a",
        "outputId": "31b84982-5108-4030-dae1-e15b5af97801"
      },
      "execution_count": null,
      "outputs": [
        {
          "output_type": "stream",
          "name": "stdout",
          "text": [
            "the number of elements are in list 4\n"
          ]
        }
      ]
    },
    {
      "cell_type": "code",
      "source": [
        "# 3. Append an element to the end of a list.\n",
        "fruits = ['mango','peach']\n",
        "fruits.append('apple')\n",
        "print(fruits)"
      ],
      "metadata": {
        "colab": {
          "base_uri": "https://localhost:8080/"
        },
        "id": "a21viVfuD7Uc",
        "outputId": "f9d7e4d8-8131-425f-c4ae-2b37dbfb6bd6"
      },
      "execution_count": null,
      "outputs": [
        {
          "output_type": "stream",
          "name": "stdout",
          "text": [
            "['mango', 'peach', 'apple']\n"
          ]
        }
      ]
    },
    {
      "cell_type": "code",
      "source": [
        "# 4. Insert an element at a specific index in a list.\n",
        "fruits = ['apple','banana','cherry','eggfruit']\n",
        "fruits.insert(3,'dates')\n",
        "print(fruits)"
      ],
      "metadata": {
        "colab": {
          "base_uri": "https://localhost:8080/"
        },
        "id": "Y3sCHoqIEFjO",
        "outputId": "df3e6e40-607b-4c44-fda7-71b40da1d439"
      },
      "execution_count": null,
      "outputs": [
        {
          "output_type": "stream",
          "name": "stdout",
          "text": [
            "['apple', 'banana', 'cherry', 'dates', 'eggfruit']\n"
          ]
        }
      ]
    },
    {
      "cell_type": "code",
      "source": [
        "# 5. Remove an element from a list by its value.\n",
        "# 6. Remove an element from a list by its index.\n",
        "fruits = ['apple','banana','cherry','eggfruit']\n",
        "fruits.remove('apple')\n",
        "del fruits[1]\n",
        "print(fruits)"
      ],
      "metadata": {
        "colab": {
          "base_uri": "https://localhost:8080/"
        },
        "id": "u3dlewRPEXlh",
        "outputId": "5e072be4-1de1-43b7-ae72-139b49e1cb57"
      },
      "execution_count": null,
      "outputs": [
        {
          "output_type": "stream",
          "name": "stdout",
          "text": [
            "['banana', 'eggfruit']\n"
          ]
        }
      ]
    },
    {
      "cell_type": "code",
      "source": [
        "# 7. Check if an element exists in a list.\n",
        "fruits = ['apple','banana','cherry','eggfruit']\n",
        "print(f\"is apple is present in fruits {'apple' in fruits}\")"
      ],
      "metadata": {
        "colab": {
          "base_uri": "https://localhost:8080/"
        },
        "id": "XYo0tSznEsKH",
        "outputId": "35b5953d-3be6-4688-b389-9bcabfcac2d4"
      },
      "execution_count": null,
      "outputs": [
        {
          "output_type": "stream",
          "name": "stdout",
          "text": [
            "is apple is present in fruits True\n"
          ]
        }
      ]
    },
    {
      "cell_type": "code",
      "source": [
        "# 8. Find the index of the first occurrence of an element in a list.\n",
        "fruits = ['apple','banana','cherry','apple','eggfruit','apple','apple']\n",
        "first_occure = fruits[0]\n",
        "count = 0\n",
        "for fruit in fruits:\n",
        "  if first_occure == fruit:\n",
        "    count+=1\n",
        "print(f\"{first_occure} count is {count}\")\n"
      ],
      "metadata": {
        "colab": {
          "base_uri": "https://localhost:8080/"
        },
        "id": "QnCy9NbNFHZC",
        "outputId": "31cbf99b-67bb-40cf-90fc-2dc92adda4f3"
      },
      "execution_count": null,
      "outputs": [
        {
          "output_type": "stream",
          "name": "stdout",
          "text": [
            "apple count is 4\n"
          ]
        }
      ]
    },
    {
      "cell_type": "code",
      "source": [
        "# 9. Count the occurrences of an element in a list.\n",
        "fruits = ['apple','banana','cherry','apple','eggfruit','apple','apple']\n",
        "fruits_occurrence_count = {fruit:fruits.count(fruit) for fruit in fruits}\n",
        "print(\"fruits occurence\")\n",
        "print(fruits_occurrence_count)"
      ],
      "metadata": {
        "colab": {
          "base_uri": "https://localhost:8080/"
        },
        "id": "8CwsUd6rFTfp",
        "outputId": "52afbab9-f5d6-4f9a-b375-cf7b94cc559c"
      },
      "execution_count": null,
      "outputs": [
        {
          "output_type": "stream",
          "name": "stdout",
          "text": [
            "fruits occurence\n",
            "{'apple': 4, 'banana': 1, 'cherry': 1, 'eggfruit': 1}\n"
          ]
        }
      ]
    },
    {
      "cell_type": "code",
      "source": [
        "# 10. Reverse the order of elements in a list.\n",
        "fruits =  ['apple','banana','cherry','apple','eggfruit']\n",
        "print('reversed order list:')\n",
        "print(fruits[::-1])"
      ],
      "metadata": {
        "colab": {
          "base_uri": "https://localhost:8080/"
        },
        "id": "nXseqxc0Gkpy",
        "outputId": "4fde508a-fd02-4790-8aa0-36bcb3a2163a"
      },
      "execution_count": null,
      "outputs": [
        {
          "output_type": "stream",
          "name": "stdout",
          "text": [
            "reversed order list:\n",
            "['eggfruit', 'apple', 'cherry', 'banana', 'apple']\n"
          ]
        }
      ]
    },
    {
      "cell_type": "code",
      "source": [
        "# 11. Sort a list in ascending order.\n",
        "# 12. Sort a list in descending order.\n",
        "fruits =  ['apple','banana','cherry','apple','eggfruit']\n",
        "print(fruits)\n",
        "print('ascending')\n",
        "print(sorted(fruits))\n",
        "print('descending')\n",
        "print(sorted(fruits,reverse=True))"
      ],
      "metadata": {
        "colab": {
          "base_uri": "https://localhost:8080/"
        },
        "id": "wbSR6uP9IJub",
        "outputId": "ca120254-0676-44c0-c20b-5ea5a5fc74cd"
      },
      "execution_count": null,
      "outputs": [
        {
          "output_type": "stream",
          "name": "stdout",
          "text": [
            "['apple', 'banana', 'cherry', 'apple', 'eggfruit']\n",
            "ascending\n",
            "['apple', 'apple', 'banana', 'cherry', 'eggfruit']\n",
            "descending\n",
            "['eggfruit', 'cherry', 'banana', 'apple', 'apple']\n"
          ]
        }
      ]
    },
    {
      "cell_type": "code",
      "source": [
        "# 13. Create a list of even numbers from 1 to 20.\n",
        "\n",
        "# 14. Create a list of odd numbers from 1 to 20.\n",
        "print('even list')\n",
        "even = [n for n in range(1,21) if n%2==0]\n",
        "print(even)\n",
        "print('odd list')\n",
        "odd = [n for n in range(1,20) if n%2!=0]\n",
        "print(odd)"
      ],
      "metadata": {
        "colab": {
          "base_uri": "https://localhost:8080/"
        },
        "id": "fygz8j7vIe3-",
        "outputId": "4b270561-e0fd-4891-d26d-1f2f10825776"
      },
      "execution_count": null,
      "outputs": [
        {
          "output_type": "stream",
          "name": "stdout",
          "text": [
            "even list\n",
            "[2, 4, 6, 8, 10, 12, 14, 16, 18, 20]\n",
            "odd list\n",
            "[1, 3, 5, 7, 9, 11, 13, 15, 17, 19]\n"
          ]
        }
      ]
    },
    {
      "cell_type": "code",
      "source": [
        "# 15. Find the sum of all elements in a list.\n",
        "# 16. Find the maximum value in a list.\n",
        "# 17. Find the minimum value in a list.\n",
        "even = [n for n in range(1,21)]\n",
        "print('sum of all elements ',sum(even))\n",
        "print('maximum number ',max(even))\n",
        "print('minimum number ',min(even))"
      ],
      "metadata": {
        "colab": {
          "base_uri": "https://localhost:8080/"
        },
        "id": "YaSBHy7vI4xk",
        "outputId": "8d4adc8b-839d-4088-db1a-03a1c9a157b7"
      },
      "execution_count": null,
      "outputs": [
        {
          "output_type": "stream",
          "name": "stdout",
          "text": [
            "sum of all elements  210\n",
            "maximum number  20\n",
            "minimum number  1\n"
          ]
        }
      ]
    },
    {
      "cell_type": "code",
      "source": [
        "import random\n",
        "# 18. Create a list of squares of numbers from 1 to 10.\n",
        "# 19. Create a list of random numbers.\n",
        "# 20. Remove duplicates from a list.\n",
        "square_list = [n**2 for n in range(1,10)]\n",
        "print(square_list)\n",
        "random_number = [random.randint(1,10) for n in range(10)]\n",
        "print(random_number)\n",
        "fruits = ['apple','banana','cherry','apple','eggfruit','apple','apple']\n",
        "uniqe_fruits = [n for n in dict.fromkeys(fruits)]\n",
        "print(uniqe_fruits)"
      ],
      "metadata": {
        "colab": {
          "base_uri": "https://localhost:8080/"
        },
        "id": "u8XnIQ-7JTja",
        "outputId": "29035d1a-8c19-4427-f6c9-ae66d9dbd6a2"
      },
      "execution_count": null,
      "outputs": [
        {
          "output_type": "stream",
          "name": "stdout",
          "text": [
            "[1, 4, 9, 16, 25, 36, 49, 64, 81]\n",
            "[6, 5, 10, 10, 9, 3, 10, 4, 4, 7]\n",
            "['apple', 'banana', 'cherry', 'eggfruit']\n"
          ]
        }
      ]
    },
    {
      "cell_type": "code",
      "source": [
        "# 21. Find the common elements between two lists.\n",
        "\n",
        "# 22. Find the difference between two lists.\n",
        "alphabet_one = ['a','b','c','d','e']\n",
        "alphabet_two = ['a','f','b','c','k']\n",
        "print('common elements are...')\n",
        "for alphabet in alphabet_one:\n",
        "  if alphabet in alphabet_two:\n",
        "    print(alphabet)\n",
        "print('uncommon elements are...')\n",
        "print(set(alphabet_one).difference(alphabet_two))\n",
        "print(set(alphabet_two).difference(alphabet_one))\n"
      ],
      "metadata": {
        "colab": {
          "base_uri": "https://localhost:8080/"
        },
        "id": "VzcM5uPfJwWn",
        "outputId": "c9b65a4f-dce1-440e-b22d-3cc07bc6cb89"
      },
      "execution_count": null,
      "outputs": [
        {
          "output_type": "stream",
          "name": "stdout",
          "text": [
            "common elements are...\n",
            "a\n",
            "b\n",
            "c\n",
            "uncommon elements are...\n",
            "{'e', 'd'}\n",
            "{'k', 'f'}\n"
          ]
        }
      ]
    },
    {
      "cell_type": "code",
      "source": [
        "# 23. Merge two lists.\n",
        "# 24. Multiply all elements in a list by 2.\n",
        "# 25. Filter out all even numbers from a list.\n",
        "alphabet_one = ['a','b','c','d','e']\n",
        "alphabet_two = ['a','f','b','c','k']\n",
        "alphabet_one.extend(alphabet_two)\n",
        "print(alphabet_one)\n",
        "number  = [n*2 for n in range(100,120)]\n",
        "print(number)\n",
        "mix_number = [n for n in range(1,50)]\n",
        "print('only even numbers')\n",
        "print([n for n in mix_number if n%2==0])"
      ],
      "metadata": {
        "colab": {
          "base_uri": "https://localhost:8080/"
        },
        "id": "UwitYtswK87k",
        "outputId": "a556b1f9-7d39-4051-af5c-9e334a6ab383"
      },
      "execution_count": null,
      "outputs": [
        {
          "output_type": "stream",
          "name": "stdout",
          "text": [
            "['a', 'b', 'c', 'd', 'e', 'a', 'f', 'b', 'c', 'k']\n",
            "[200, 202, 204, 206, 208, 210, 212, 214, 216, 218, 220, 222, 224, 226, 228, 230, 232, 234, 236, 238]\n",
            "only even numbers\n",
            "[2, 4, 6, 8, 10, 12, 14, 16, 18, 20, 22, 24, 26, 28, 30, 32, 34, 36, 38, 40, 42, 44, 46, 48]\n"
          ]
        }
      ]
    },
    {
      "cell_type": "code",
      "source": [
        "# 26. Convert a list of strings to a list of integers.\n",
        "# 27. Convert a list of integers to a list of strings.\n",
        "# 28. Flatten a nested list.\n",
        "str_number = ['1','2','3','4','5']\n",
        "int_number = [int(n) for n in str_number]\n",
        "print(int_number)\n",
        "re_convo = [str(n) for n in int_number]\n",
        "print(re_convo)\n",
        "nested = [[1,2,3],[4,5,6]]\n",
        "flatten = []\n",
        "for i in nested:\n",
        "  for j in i:\n",
        "    flatten.append(j)\n",
        "print(flatten)"
      ],
      "metadata": {
        "id": "yFYfJ7f7MJ09",
        "colab": {
          "base_uri": "https://localhost:8080/"
        },
        "outputId": "257fc1d2-e7cf-4829-85f7-1f46d3299cc7"
      },
      "execution_count": null,
      "outputs": [
        {
          "output_type": "stream",
          "name": "stdout",
          "text": [
            "[1, 2, 3, 4, 5]\n",
            "['1', '2', '3', '4', '5']\n",
            "[1, 2, 3, 4, 5, 6]\n"
          ]
        }
      ]
    },
    {
      "cell_type": "code",
      "source": [
        "# 29. Create a list of the first 10 Fibonacci numbers.\n",
        "def fibo(n):\n",
        "  if n==0 or n==1:\n",
        "    return n\n",
        "  return fibo(n-1)+fibo(n-2)\n",
        "n1 = 0\n",
        "n2 = 1\n",
        "print(n1)\n",
        "print(n2)\n",
        "for i in range(1,10):\n",
        "  n3 = n1+n2\n",
        "  n1 = n2\n",
        "  n2 = n3\n",
        "  print(n3)\n",
        "\n",
        "n=10\n",
        "print(fibo(10))"
      ],
      "metadata": {
        "colab": {
          "base_uri": "https://localhost:8080/"
        },
        "id": "0Lot35Z_pthv",
        "outputId": "c64f6524-d765-49b9-bf2f-ca7fb7cf32c5"
      },
      "execution_count": null,
      "outputs": [
        {
          "output_type": "stream",
          "name": "stdout",
          "text": [
            "0\n",
            "1\n",
            "1\n",
            "2\n",
            "3\n",
            "5\n",
            "8\n",
            "13\n",
            "21\n",
            "34\n",
            "55\n",
            "55\n"
          ]
        }
      ]
    },
    {
      "cell_type": "code",
      "source": [
        "# 30. Check if a list is sorted.\n",
        "unsorted = [1,3,5,4,2]\n",
        "sortedlist = [1,2,3,4,5]\n",
        "def check_sort(ls):\n",
        "  if sorted(ls)==ls:\n",
        "    return \"list is sorted\"\n",
        "  else:\n",
        "    return 'list is unosrted'\n",
        "print(check_sort(unsorted))\n",
        "print(check_sort(sortedlist))\n",
        "\n"
      ],
      "metadata": {
        "colab": {
          "base_uri": "https://localhost:8080/"
        },
        "id": "L3VlbxeNsZ-3",
        "outputId": "438bb412-15e2-44b8-877e-b4c177135895"
      },
      "execution_count": null,
      "outputs": [
        {
          "output_type": "stream",
          "name": "stdout",
          "text": [
            "list is unosrted\n",
            "list is sorted\n"
          ]
        }
      ]
    },
    {
      "cell_type": "code",
      "source": [
        "# 31. Rotate a list to the left by `n` positions.\n",
        "from collections import deque\n",
        "a= [1,2,3,4,5]\n",
        "# d = deque(a)\n",
        "# d.rotate(2)\n",
        "# print(d)\n",
        "b = a[::-1]\n",
        "del a[4]\n",
        "del a[3]\n",
        "a.insert(0,b[0])\n",
        "a.insert(1,b[1])\n",
        "print(a)"
      ],
      "metadata": {
        "id": "3kvE1BBFy3Gl",
        "colab": {
          "base_uri": "https://localhost:8080/"
        },
        "outputId": "b30f15a4-00c5-49bd-d810-28164d8e1e36"
      },
      "execution_count": null,
      "outputs": [
        {
          "output_type": "stream",
          "name": "stdout",
          "text": [
            "[5, 4, 1, 2, 3]\n"
          ]
        }
      ]
    },
    {
      "cell_type": "code",
      "source": [
        "# 32. Rotate a list to the right by `n` positions.\n",
        "a = [1,2,3,4,5] # output: [3,4,5,1,2]\n",
        "b = a[::-1]\n",
        "n=3\n",
        "new_n = [a[n] for n in range(n)]\n",
        "for i in range(n):\n",
        "  b.pop()\n",
        "\n",
        "b.extend(new_n)\n",
        "print(b)"
      ],
      "metadata": {
        "id": "CBGrR8mCFZPE",
        "colab": {
          "base_uri": "https://localhost:8080/"
        },
        "outputId": "3f860d58-9420-4f6b-b56a-67a343f10934"
      },
      "execution_count": null,
      "outputs": [
        {
          "output_type": "stream",
          "name": "stdout",
          "text": [
            "[5, 4, 1, 2, 3]\n"
          ]
        }
      ]
    },
    {
      "cell_type": "code",
      "source": [
        "print(new_n)"
      ],
      "metadata": {
        "colab": {
          "base_uri": "https://localhost:8080/"
        },
        "id": "07AYw9FwDm9J",
        "outputId": "fa8dfd8d-1ac2-4ebb-8dbe-649d2a58ebae"
      },
      "execution_count": null,
      "outputs": [
        {
          "output_type": "stream",
          "name": "stdout",
          "text": [
            "[5, 4]\n"
          ]
        }
      ]
    },
    {
      "cell_type": "code",
      "source": [
        "a = [1,2,3,4,5]\n",
        "s = \"\"\n",
        "n=2\n",
        "for i in range(n):\n",
        "  s+=str(a.pop())\n",
        "for i in range(len(s)):\n",
        "  a.insert(i,int(s[i]))\n",
        "print(s)\n",
        "print(a)"
      ],
      "metadata": {
        "id": "sUUoaMKzEkcy",
        "colab": {
          "base_uri": "https://localhost:8080/"
        },
        "outputId": "9b46be93-05b8-4022-928a-e2ab3846e798"
      },
      "execution_count": null,
      "outputs": [
        {
          "output_type": "stream",
          "name": "stdout",
          "text": [
            "54\n",
            "[5, 4, 1, 2, 3]\n"
          ]
        }
      ]
    },
    {
      "cell_type": "code",
      "source": [
        "a = [1,2,3,4,5]\n",
        "count=-1\n",
        "for i in range(len(a)):\n",
        "  if a[i]!=a[count]:\n",
        "    a[i],a[count] = a[count],a[i]\n",
        "  else:\n",
        "    count+=1\n",
        "  # count-=1\n",
        "print(a)"
      ],
      "metadata": {
        "colab": {
          "base_uri": "https://localhost:8080/"
        },
        "id": "g33uFOb7vAWn",
        "outputId": "fb0ec422-fac0-4d22-996e-c9f70a867cd0"
      },
      "execution_count": null,
      "outputs": [
        {
          "output_type": "stream",
          "name": "stdout",
          "text": [
            "[5, 1, 2, 3, 4]\n"
          ]
        }
      ]
    },
    {
      "cell_type": "code",
      "source": [
        "# 33. Create a list of prime numbers up to 50.\n",
        "number=113\n",
        "if number ==1 or number==0:\n",
        "  print(f'The {number} is neither prime or nor composite')\n",
        "else:\n",
        "  tester = [n for n in [2,3,5,7] if number%n==0]\n",
        "  if tester:\n",
        "    print('number is not prime',tester)\n",
        "  else:\n",
        "    print('number is prime',number)"
      ],
      "metadata": {
        "id": "uy1YmuBPvEeX",
        "colab": {
          "base_uri": "https://localhost:8080/"
        },
        "outputId": "c94b710f-50d7-4926-876e-974ca9f5d9f0"
      },
      "execution_count": null,
      "outputs": [
        {
          "output_type": "stream",
          "name": "stdout",
          "text": [
            "number is prime 113\n"
          ]
        }
      ]
    },
    {
      "cell_type": "code",
      "source": [
        "# 34. Split a list into chunks of size `n`.\n",
        "number = [1,2,3,4,5,6,7,8,9,10]\n",
        "n = 2\n",
        "m = n\n",
        "i = 0\n",
        "new_list = []\n",
        "while i<n:\n",
        "  new_list.append(number[i:n])\n",
        "  i = n\n",
        "  n+=m\n",
        "  if n>len(number):\n",
        "    break\n",
        "print(new_list)"
      ],
      "metadata": {
        "id": "egtjU3WnVYOo",
        "colab": {
          "base_uri": "https://localhost:8080/"
        },
        "outputId": "017189ae-bf50-4a78-d120-829d4b4dd18e"
      },
      "execution_count": 9,
      "outputs": [
        {
          "output_type": "stream",
          "name": "stdout",
          "text": [
            "[[1, 2], [3, 4], [5, 6], [7, 8], [9, 10]]\n"
          ]
        }
      ]
    },
    {
      "cell_type": "code",
      "source": [
        "# 35. Find the second largest number in a list.\n",
        "number = [1,2,3,4,5]\n",
        "max_number = number.remove(max(number))\n",
        "second_largest = max(number)\n",
        "print(second_largest)"
      ],
      "metadata": {
        "colab": {
          "base_uri": "https://localhost:8080/"
        },
        "id": "5hHuEsfHWmCL",
        "outputId": "a9b65854-86ed-477f-c015-9a981bbe8988"
      },
      "execution_count": null,
      "outputs": [
        {
          "output_type": "stream",
          "name": "stdout",
          "text": [
            "4\n"
          ]
        }
      ]
    },
    {
      "cell_type": "code",
      "source": [
        "# 36. Replace every element in a list with its square.\n",
        "number = [1,2,3,4,5]\n",
        "print([n**2 for n in number])"
      ],
      "metadata": {
        "colab": {
          "base_uri": "https://localhost:8080/"
        },
        "id": "LwF7uL35W0Ry",
        "outputId": "41db4094-fc1c-4262-a098-c641af5e5bf2"
      },
      "execution_count": null,
      "outputs": [
        {
          "output_type": "stream",
          "name": "stdout",
          "text": [
            "[1, 4, 9, 16, 25]\n"
          ]
        }
      ]
    },
    {
      "cell_type": "code",
      "source": [
        "# 37. Convert a list to a dictionary where list elements become keys and their\n",
        "# indices become values.\n",
        "number = [10,20,30,40,50]\n",
        "print({j:i for i,j in enumerate(number)})\n"
      ],
      "metadata": {
        "colab": {
          "base_uri": "https://localhost:8080/"
        },
        "id": "DlWdpKfKXgAx",
        "outputId": "b72383cd-ba65-41c1-e01c-3d00ed3e9822"
      },
      "execution_count": null,
      "outputs": [
        {
          "output_type": "stream",
          "name": "stdout",
          "text": [
            "{10: 0, 20: 1, 30: 2, 40: 3, 50: 4}\n"
          ]
        }
      ]
    },
    {
      "cell_type": "code",
      "source": [
        "# 38. Shuffle the elements of a list randomly.\n",
        "import random\n",
        "number = [10,20,30,40,50]\n",
        "random.shuffle(number)\n",
        "print(number)"
      ],
      "metadata": {
        "colab": {
          "base_uri": "https://localhost:8080/"
        },
        "id": "nb19TxUDXtPU",
        "outputId": "ca3ba40f-85b9-4adb-df6b-51eff32a99eb"
      },
      "execution_count": null,
      "outputs": [
        {
          "output_type": "stream",
          "name": "stdout",
          "text": [
            "[30, 50, 20, 10, 40]\n"
          ]
        }
      ]
    },
    {
      "cell_type": "code",
      "source": [
        "# 39. Create a list of the first 10 factorial numbers.\n",
        "number=1\n",
        "count=0\n",
        "new_list=[]\n",
        "for i in range(1,10):\n",
        "  number+=i*number\n",
        "  new_list.append(number)\n",
        "print(new_list)\n"
      ],
      "metadata": {
        "colab": {
          "base_uri": "https://localhost:8080/"
        },
        "id": "RoOghdPxYO7J",
        "outputId": "1b9c1dc4-e56f-4670-fdba-05e157bbc935"
      },
      "execution_count": null,
      "outputs": [
        {
          "output_type": "stream",
          "name": "stdout",
          "text": [
            "[2, 6, 24, 120, 720, 5040, 40320, 362880, 3628800]\n"
          ]
        }
      ]
    },
    {
      "cell_type": "code",
      "source": [
        "# 40. Check if two lists have at least one element in common.\n",
        "number = [1,2,3,4,5]\n",
        "standard = [1,2,6,7,8]\n",
        "for i in number:\n",
        "  if i in standard:\n",
        "    print(True)\n",
        "    break\n",
        "  else:\n",
        "    print(False)"
      ],
      "metadata": {
        "colab": {
          "base_uri": "https://localhost:8080/"
        },
        "id": "oWwxzGsfY9HZ",
        "outputId": "1d17ad95-fc2a-4b98-aa36-54d4367a9abc"
      },
      "execution_count": null,
      "outputs": [
        {
          "output_type": "stream",
          "name": "stdout",
          "text": [
            "True\n"
          ]
        }
      ]
    },
    {
      "cell_type": "code",
      "source": [
        "# 41. Remove all elements from a list\n",
        "number = [1,2,3,4,5]\n",
        "number.clear(\n",
        "\n",
        ")\n",
        "print(number)"
      ],
      "metadata": {
        "colab": {
          "base_uri": "https://localhost:8080/"
        },
        "id": "rg6Kf_S_bpaA",
        "outputId": "3414446a-b553-4e11-b1e9-cf16ed6f7d77"
      },
      "execution_count": null,
      "outputs": [
        {
          "output_type": "stream",
          "name": "stdout",
          "text": [
            "[]\n"
          ]
        }
      ]
    },
    {
      "cell_type": "code",
      "source": [
        "# 42. Replace negative numbers in a list with 0.\n",
        "random_list = [random.randint(a=-1,b=5) for n in range(10)]\n",
        "for i in range(len(random_list)):\n",
        "  if random_list[i]<0:\n",
        "    random_list.remove(random_list[i])\n",
        "    random_list.insert(i,0)\n",
        "print(random_list)"
      ],
      "metadata": {
        "colab": {
          "base_uri": "https://localhost:8080/"
        },
        "id": "Id0seuyobyWM",
        "outputId": "e3fe64dd-c669-487f-e356-3c523adff8af"
      },
      "execution_count": null,
      "outputs": [
        {
          "output_type": "stream",
          "name": "stdout",
          "text": [
            "[5, 1, 5, 1, 0, 3, 3, 0, 0, 3]\n"
          ]
        }
      ]
    },
    {
      "cell_type": "code",
      "source": [
        "# 43. Convert a string into a list of words.\n",
        "# 44. Convert a list of words into a string.\n",
        "name =  'name is sahim kazi'\n",
        "name=name.split(' ')\n",
        "print(name)\n",
        "print(\"revert string\")\n",
        "print(\" \".join(name))"
      ],
      "metadata": {
        "colab": {
          "base_uri": "https://localhost:8080/"
        },
        "id": "1457K_5db8bp",
        "outputId": "5d2c1e67-941a-4131-e1dd-46420db68872"
      },
      "execution_count": null,
      "outputs": [
        {
          "output_type": "stream",
          "name": "stdout",
          "text": [
            "['name', 'is', 'sahim', 'kazi']\n",
            "revert string\n",
            "name is sahim kazi\n"
          ]
        }
      ]
    },
    {
      "cell_type": "code",
      "source": [
        "# 45. Create a list of the first `n` powers of 2.\n",
        "n = 10\n",
        "# n = int(input())\n",
        "print([i**2 for i in range(n)])"
      ],
      "metadata": {
        "colab": {
          "base_uri": "https://localhost:8080/"
        },
        "id": "7nepmG3wdJYx",
        "outputId": "13c99a0b-9129-4347-f834-e628f7a90408"
      },
      "execution_count": null,
      "outputs": [
        {
          "output_type": "stream",
          "name": "stdout",
          "text": [
            "[0, 1, 4, 9, 16, 25, 36, 49, 64, 81]\n"
          ]
        }
      ]
    },
    {
      "cell_type": "code",
      "source": [
        "# 46. Find the longest string in a list of strings.\n",
        "paragraph = \"\"\"The chunk size parameter refers to the length of the input sequences that are fed into the RNN model. In the context\n",
        "of text data, a sequence can be thought of as a series of\n",
        "words or characters. By specifying the chunk size, we define the number of words or characters that are processed at a time by the RNN.\"\"\"\n",
        "paragraph = paragraph.split(' ')\n",
        "print(max({n:len(n) for n in paragraph},key={n:len(n) for n in paragraph}.get))"
      ],
      "metadata": {
        "colab": {
          "base_uri": "https://localhost:8080/"
        },
        "id": "6ELYxqPnd1Ur",
        "outputId": "cf8419e4-d800-4436-c07f-835794667dcf"
      },
      "execution_count": null,
      "outputs": [
        {
          "output_type": "stream",
          "name": "stdout",
          "text": [
            "characters.\n"
          ]
        }
      ]
    },
    {
      "cell_type": "code",
      "source": [
        "len('sequences')"
      ],
      "metadata": {
        "colab": {
          "base_uri": "https://localhost:8080/"
        },
        "id": "RDyPhTbielij",
        "outputId": "0e64f722-982b-433a-8e4b-b70239efb8a4"
      },
      "execution_count": null,
      "outputs": [
        {
          "output_type": "execute_result",
          "data": {
            "text/plain": [
              "9"
            ]
          },
          "metadata": {},
          "execution_count": 63
        }
      ]
    },
    {
      "cell_type": "code",
      "source": [
        "# 47. Find the shortest string in a list of strings.\n",
        "paragraph = \"\"\"The chunk size parameter refers to the length of the input sequences that are fed into the RNN model. In the context\n",
        "of text data, a sequence can be thought of as a series of\n",
        "words or characters. By specifying the chunk size, we define the number of words or characters that are processed at a time by the RNN.\"\"\"\n",
        "paragraph = paragraph.split(' ')\n",
        "print(min({n:len(n) for n in paragraph},key={n:len(n) for n in paragraph}.get))"
      ],
      "metadata": {
        "colab": {
          "base_uri": "https://localhost:8080/"
        },
        "id": "wAfFLzHxe742",
        "outputId": "765baac3-5295-4a39-e767-3a46a6b45c69"
      },
      "execution_count": null,
      "outputs": [
        {
          "output_type": "stream",
          "name": "stdout",
          "text": [
            "a\n"
          ]
        }
      ]
    },
    {
      "cell_type": "code",
      "source": [
        "# 48. Create a list of the first `n` triangular numbers.\n",
        "# n * (n+1) / 2\n",
        "n = 10\n",
        "tls=[]\n",
        "for i in range(1,n):\n",
        "  tls.append((i * (i + 1)) // 2)\n",
        "print(tls)"
      ],
      "metadata": {
        "id": "fBx0o4rNfIko",
        "colab": {
          "base_uri": "https://localhost:8080/"
        },
        "outputId": "016ec9c4-80d2-4ac9-f640-58e61e7954b6"
      },
      "execution_count": 15,
      "outputs": [
        {
          "output_type": "stream",
          "name": "stdout",
          "text": [
            "[1, 3, 6, 10, 15, 21, 28, 36, 45]\n"
          ]
        }
      ]
    },
    {
      "cell_type": "code",
      "source": [
        "# 49. Check if a list contains another list as a subsequence.\n",
        "sublist = [1,2,3,[4,5],6,[6,7]]\n",
        "flag=False\n",
        "s = None\n",
        "for i in sublist:\n",
        "  if type(i) in [list,dict,set,tuple]:\n",
        "    flag=True\n",
        "    s = i\n",
        "    break\n",
        "\n",
        "if flag==True:\n",
        "  print('contain subsequence',s)\n",
        "else:\n",
        "  print('not contain subsequence')\n"
      ],
      "metadata": {
        "colab": {
          "base_uri": "https://localhost:8080/"
        },
        "id": "QFrswNU3fi4j",
        "outputId": "d19c4968-9a09-4e5a-c6ab-54c93232e646"
      },
      "execution_count": 27,
      "outputs": [
        {
          "output_type": "stream",
          "name": "stdout",
          "text": [
            "contain subsequence [4, 5]\n"
          ]
        }
      ]
    },
    {
      "cell_type": "code",
      "source": [
        "# 50. Swap two elements in a list by their indices.\n",
        "number = [11,12,13,14,15]\n",
        "for i in range(2,4):\n",
        "  number.remove(number[i])\n",
        "  number.insert(i,i)\n",
        "print(number)"
      ],
      "metadata": {
        "colab": {
          "base_uri": "https://localhost:8080/"
        },
        "id": "hzVDHGYpfiuE",
        "outputId": "b1779170-f7aa-40fa-f1d8-4689bac52b6c"
      },
      "execution_count": 2,
      "outputs": [
        {
          "output_type": "stream",
          "name": "stdout",
          "text": [
            "[11, 12, 2, 3, 15]\n"
          ]
        }
      ]
    }
  ]
}