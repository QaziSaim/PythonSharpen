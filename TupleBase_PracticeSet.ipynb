{
  "nbformat": 4,
  "nbformat_minor": 0,
  "metadata": {
    "colab": {
      "provenance": [],
      "authorship_tag": "ABX9TyOq6+LB8iWDMw/TXFKJwq1K",
      "include_colab_link": true
    },
    "kernelspec": {
      "name": "python3",
      "display_name": "Python 3"
    },
    "language_info": {
      "name": "python"
    }
  },
  "cells": [
    {
      "cell_type": "markdown",
      "metadata": {
        "id": "view-in-github",
        "colab_type": "text"
      },
      "source": [
        "<a href=\"https://colab.research.google.com/github/QaziSaim/PythonSharpen/blob/main/TupleBase_PracticeSet.ipynb\" target=\"_parent\"><img src=\"https://colab.research.google.com/assets/colab-badge.svg\" alt=\"Open In Colab\"/></a>"
      ]
    },
    {
      "cell_type": "code",
      "source": [
        "import random"
      ],
      "metadata": {
        "id": "MI3wenrv8YJJ"
      },
      "execution_count": null,
      "outputs": []
    },
    {
      "cell_type": "code",
      "execution_count": null,
      "metadata": {
        "colab": {
          "base_uri": "https://localhost:8080/"
        },
        "id": "LLTIRWH07Fyb",
        "outputId": "8ff2a36d-33d6-4c2c-99c9-8589cc69e3dc"
      },
      "outputs": [
        {
          "output_type": "stream",
          "name": "stdout",
          "text": [
            "[0.7118213703689646, 0.136680284407239, 0.27841231867683214, 0.7151393111584462, 0.5624595763655474, 0.1230939382405607, 0.024020335294895556, 0.8145882716720589, 0.03186713237561456, 0.5791611422394087]\n",
            "Third Element is  0.27841231867683214\n",
            "Total number of elements in tuple are:  10\n",
            "occurence of all elements {1: 2, 2: 1, 3: 1, 4: 1, 5: 2, 6: 1, 7: 1, 8: 2, 9: 1, 10: 2}\n"
          ]
        }
      ],
      "source": [
        "# 1. Create a tuple with integers from 1 to 5.\n",
        "# 2. Access the third element of a tuple.\n",
        "# 3. Find the length of a tuple without using the `len()` function.\n",
        "# 4. Count the occurrences of an element in a tuple.\n",
        "tuple_10 = list([random.random() for  n in range(1,11)])\n",
        "print(tuple_10)\n",
        "print(f'Third Element is ',tuple_10[2])\n",
        "count = 0\n",
        "for i in range(len(tuple_10)):\n",
        "  count+=1\n",
        "print('Total number of elements in tuple are: ',count)\n",
        "copy_tuple = [1,1,2,3,4,5,5,6,7,8,8,9,10,10]\n",
        "print('occurence of all elements',{n:copy_tuple.count(n) for n in copy_tuple})\n"
      ]
    },
    {
      "cell_type": "code",
      "source": [
        "# 5. Find the index of the first occurrence of an element in a tuple.\n",
        "# 6. Check if an element exists in a tuple.\n",
        "# 7. Convert a tuple to a list.\n",
        "# 8. Convert a list to a tuple.\n",
        "new_tuple = ('apple','mango','kiwi','papaya','lemon','stawberry')\n",
        "print('first occurence element index',new_tuple[0])\n",
        "if 'mango' in new_tuple:\n",
        "  print('Yes mango exists')\n",
        "else:\n",
        "  print('No mango exists')\n",
        "print('Tuple to List',list(new_tuple))\n",
        "print('List to Tuple',tuple(list(new_tuple)))"
      ],
      "metadata": {
        "colab": {
          "base_uri": "https://localhost:8080/"
        },
        "id": "FOfNQZN98AWl",
        "outputId": "493aa982-53a0-4fae-ab56-1678cc3ae7f6"
      },
      "execution_count": null,
      "outputs": [
        {
          "output_type": "stream",
          "name": "stdout",
          "text": [
            "first occurence element index apple\n",
            "Yes mango exists\n",
            "List to Tuple ['apple', 'mango', 'kiwi', 'papaya', 'lemon', 'stawberry']\n",
            "Tuple to List ('apple', 'mango', 'kiwi', 'papaya', 'lemon', 'stawberry')\n"
          ]
        }
      ]
    },
    {
      "cell_type": "code",
      "source": [
        "# 9. Unpack the elements of a tuple into variables.\n",
        "# 10. Create a tuple of even numbers from 1 to 10.\n",
        "# 11. Create a tuple of odd numbers from 1 to 10.\n",
        "# 12. Concatenate two tuples.\n",
        "one,two,_,three = (1,2,3,4)\n",
        "print(_)\n",
        "print('even number tuple',tuple(list(n for n in range(10) if n%2==0)))\n",
        "print('odd number tuple',tuple(list(n for n in range(10) if n%2!=0)))\n",
        "numberOne=(1,2,3,4)\n",
        "numberTwo=(5,6,7,8)\n",
        "numberOne = list(numberOne)\n",
        "numberTwo = [numberOne.append(n) for n in numberTwo]\n",
        "print(numberOne)"
      ],
      "metadata": {
        "colab": {
          "base_uri": "https://localhost:8080/"
        },
        "id": "WzVkdrfo8-NE",
        "outputId": "0220eb00-0a5c-4763-a8ce-b511da31314e"
      },
      "execution_count": null,
      "outputs": [
        {
          "output_type": "stream",
          "name": "stdout",
          "text": [
            "3\n",
            "even number tuple (0, 2, 4, 6, 8)\n",
            "odd number tuple (1, 3, 5, 7, 9)\n",
            "[1, 2, 3, 4, 5, 6, 7, 8]\n"
          ]
        }
      ]
    },
    {
      "cell_type": "code",
      "source": [
        "numberOne"
      ],
      "metadata": {
        "colab": {
          "base_uri": "https://localhost:8080/"
        },
        "id": "F4-yrb0u-V87",
        "outputId": "82b443ff-cf2d-45dd-eeee-35bc613310de"
      },
      "execution_count": null,
      "outputs": [
        {
          "output_type": "execute_result",
          "data": {
            "text/plain": [
              "[1, 2, 3, 4, 5, 6, 7, 8]"
            ]
          },
          "metadata": {},
          "execution_count": 4
        }
      ]
    },
    {
      "cell_type": "code",
      "source": [
        "# 13. Repeat a tuple three times.\n",
        "# 14. Check if a tuple is empty.\n",
        "# 15. Create a nested tuple.\n",
        "# 16. Access the first element of a nested tuple.\n",
        "repeat = (1,2,3)*3\n",
        "print(repeat)\n",
        "tuple_new = ()\n",
        "if tuple_new:\n",
        "  print('fill')\n",
        "else:\n",
        "  print('empty')\n",
        "nested = (1,2,(3,4),5)\n",
        "print(nested)\n",
        "nested_tuple = ((1,2),(3,4,5),(6,7,8))\n",
        "print(nested_tuple[0])"
      ],
      "metadata": {
        "colab": {
          "base_uri": "https://localhost:8080/"
        },
        "id": "OOA3d64b-8Kh",
        "outputId": "70cbb4b6-e428-4244-af12-b234a6df021e"
      },
      "execution_count": null,
      "outputs": [
        {
          "output_type": "stream",
          "name": "stdout",
          "text": [
            "(1, 2, 3, 1, 2, 3, 1, 2, 3)\n",
            "empty\n",
            "(1, 2, (3, 4), 5)\n",
            "(1, 2)\n"
          ]
        }
      ]
    },
    {
      "cell_type": "code",
      "source": [
        "# 17. Create a tuple with a single element.\n",
        "# 18. Compare two tuples.\n",
        "# 19. Delete a tuple.\n",
        "# 20. Slice a tuple.\n",
        "x = 1,\n",
        "print(x)\n",
        "one=(9,)\n",
        "two = (9,)\n",
        "print(one==two)\n",
        "del one\n",
        "try:\n",
        "  print(one)\n",
        "except:\n",
        "  print('The tuple is not exists')\n",
        "days = (1,2,3,4,5,6,7)\n",
        "print(days[1:-1])"
      ],
      "metadata": {
        "colab": {
          "base_uri": "https://localhost:8080/"
        },
        "id": "TFdFR17xPpbm",
        "outputId": "832739a1-7b2a-42d3-9341-b39b9d599463"
      },
      "execution_count": null,
      "outputs": [
        {
          "output_type": "stream",
          "name": "stdout",
          "text": [
            "(1,)\n",
            "True\n",
            "The tuple is not exists\n",
            "(2, 3, 4, 5, 6)\n"
          ]
        }
      ]
    },
    {
      "cell_type": "code",
      "source": [
        "# 21. Find the maximum value in a tuple.\n",
        "# 22. Find the minimum value in a tuple.\n",
        "# 23. Convert a string to a tuple of characters.\n",
        "# 24. Convert a tuple of characters to a string.\n",
        "number_between_range = (1,2,3,4,5,6,7,8,9)\n",
        "print('max elements',max(number_between_range))\n",
        "print('min_elements',min(number_between_range))\n",
        "print(\"\".join(str(n) for n in number_between_range))\n",
        "print(tuple(n for n in \"\".join(str(n) for n in number_between_range)))"
      ],
      "metadata": {
        "colab": {
          "base_uri": "https://localhost:8080/"
        },
        "id": "vWrkT7lQPxrU",
        "outputId": "fbaa4f10-6446-4fcb-a856-268b2c04cfe2"
      },
      "execution_count": null,
      "outputs": [
        {
          "output_type": "stream",
          "name": "stdout",
          "text": [
            "max elements 9\n",
            "min_elements 1\n",
            "123456789\n",
            "('1', '2', '3', '4', '5', '6', '7', '8', '9')\n"
          ]
        }
      ]
    },
    {
      "cell_type": "code",
      "source": [
        "# 25. Create a tuple from multiple data types.\n",
        "# 26. Check if two tuples are identical.\n",
        "# 27. Sort the elements of a tuple.\n",
        "# 28. Convert a tuple of integers to a tuple of strings.\n",
        "# 29. Convert a tuple of strings to a tuple of integers.\n",
        "# 30. Merge two tuples.\n",
        "datatype_tuple = (1,2.30,'sahim')\n",
        "print(datatype_tuple)\n",
        "tupelOne = (1,2,3)\n",
        "tupleTwo = (1,2,3)\n",
        "tupleThree = (4,5,6)\n",
        "if tupelOne == tupelOne:\n",
        "  print(True)\n",
        "else:\n",
        "  print(False)\n",
        "if tupleTwo == tupleThree or tupelOne==tupleThree:\n",
        "  print(True)\n",
        "else:\n",
        "  print(False)\n",
        "unsort = (4,1,3,2)\n",
        "print('unsort',unsort)\n",
        "sort = tuple(sorted(unsort))\n",
        "print('sort',sort)\n",
        "int_tuple = (1,2,3,4,5)\n",
        "print(tuple([str(n) for n in int_tuple]))\n",
        "str_tuple = ('1','2','3','4','5')\n",
        "print(tuple([int(n) for n in str_tuple]))\n",
        "tuple1 = (1,2,3)\n",
        "tuple2 = (4,5,6)\n",
        "print('merge',tuple1,tuple2)\n",
        "tuple1 = list(tuple1)\n",
        "tuple2 = list(tuple2)\n",
        "tuple1.extend(tuple2)\n",
        "print(tuple(tuple1))\n",
        "\n",
        "\n"
      ],
      "metadata": {
        "colab": {
          "base_uri": "https://localhost:8080/"
        },
        "id": "1F6f2lVtQV3I",
        "outputId": "b5c44153-503e-4109-c3f9-5da9415da71e"
      },
      "execution_count": null,
      "outputs": [
        {
          "output_type": "stream",
          "name": "stdout",
          "text": [
            "(1, 2.3, 'sahim')\n",
            "True\n",
            "False\n",
            "unsort (4, 1, 3, 2)\n",
            "sort (1, 2, 3, 4)\n",
            "('1', '2', '3', '4', '5')\n",
            "(1, 2, 3, 4, 5)\n",
            "merge (1, 2, 3) (4, 5, 6)\n",
            "(1, 2, 3, 4, 5, 6)\n"
          ]
        }
      ]
    },
    {
      "cell_type": "code",
      "source": [
        "# 31. Flatten a nested tuple.\n",
        "import numpy as np\n",
        "number = [[1,2],[3,4],[4,5],6,[7,8,[9,10]]]\n",
        "number = str(number)\n",
        "number = number.replace('[',\"\")\n",
        "number = number.replace(']',\"\")\n",
        "print(number)\n",
        "# 32. Create a tuple of the first 5 prime numbers.\n",
        "number = []\n",
        "for i in range(100):\n",
        "  if i==0 or i==1:\n",
        "    # non_prime_no.append(i)\n",
        "    pass\n",
        "  if i%2==0 or i%3==0 or i%5==0:\n",
        "    # non_prime.append(i)\n",
        "    pass\n",
        "  else:\n",
        "    number.append(i)\n",
        "print(tuple(number))\n",
        "\n",
        "# 33. Check if a tuple is a palindrome.\n",
        "name = 'sahim'\n",
        "scrap = 'naan'\n",
        "def is_palindrom(word):\n",
        "  if word==word[::-1]:\n",
        "    return 'palindrome'\n",
        "  return 'not palindrome'\n",
        "print(is_palindrom('sahim'))\n",
        "print(is_palindrom('nan'))\n",
        "# 34. Create a tuple of squares of numbers from 1 to 5.\n",
        "\n",
        "print(tuple(n**2 for n in range(1,6)))\n",
        "# 35. Filter out all even numbers from a tuple.\n",
        "\n",
        "print(tuple(n for n in range(1,50) if n%2==0))\n",
        "\n",
        "# 36. Multiply all elements in a tuple by 2.\n",
        "odd = tuple(n * 2 for n in range(1,20))\n",
        "print(odd)\n"
      ],
      "metadata": {
        "id": "RSCIfLUUQeSQ",
        "colab": {
          "base_uri": "https://localhost:8080/"
        },
        "outputId": "7320a52f-aa0c-478e-aa6c-983fe9c1b70b"
      },
      "execution_count": null,
      "outputs": [
        {
          "output_type": "stream",
          "name": "stdout",
          "text": [
            "1, 2, 3, 4, 4, 5, 6, 7, 8, 9, 10\n",
            "(1, 7, 11, 13, 17, 19, 23, 29, 31, 37, 41, 43, 47, 49, 53, 59, 61, 67, 71, 73, 77, 79, 83, 89, 91, 97)\n",
            "not palindrome\n",
            "palindrome\n",
            "(1, 4, 9, 16, 25)\n",
            "(2, 4, 6, 8, 10, 12, 14, 16, 18, 20, 22, 24, 26, 28, 30, 32, 34, 36, 38, 40, 42, 44, 46, 48)\n",
            "(2, 4, 6, 8, 10, 12, 14, 16, 18, 20, 22, 24, 26, 28, 30, 32, 34, 36, 38)\n"
          ]
        }
      ]
    },
    {
      "cell_type": "code",
      "source": [
        "# 37. Create a tuple of random numbers.\n",
        "import random\n",
        "random_tuple = tuple(random.randint(1,100) for n in range(10))\n",
        "print(random_tuple)\n",
        "# 38. Check if a tuple is sorted.\n",
        "unsorted = (1,2,3,4,5)\n",
        "left = 0\n",
        "right = 1\n",
        "flag = True\n",
        "while left<len(unsorted) and right<len(unsorted):\n",
        "  if unsorted[left]>unsorted[right]:\n",
        "    flag=True\n",
        "    print('tuple is unsorted')\n",
        "  else:\n",
        "    flag = False\n",
        "    left+=1\n",
        "    right+=1\n",
        "if flag == True:\n",
        "  print('tuple is unsorted')\n",
        "else:\n",
        "  print('tuple is sorted')\n",
        "# 39. Rotate a tuple to the left by `n` positions.\n",
        "\n",
        "# 40. Rotate a tuple to the right by `n` positions.\n",
        "# 41. Create a tuple of the first 5 Fibonacci numbers.\n",
        "\n",
        "# 42. Create a tuple from user input."
      ],
      "metadata": {
        "id": "Mns7w0hFTge7",
        "colab": {
          "base_uri": "https://localhost:8080/"
        },
        "outputId": "efdae8a9-cf0e-491c-a90a-191855c29330"
      },
      "execution_count": null,
      "outputs": [
        {
          "output_type": "stream",
          "name": "stdout",
          "text": [
            "(64, 2, 72, 84, 19, 82, 12, 24, 29, 75)\n",
            "tuple is sorted\n"
          ]
        }
      ]
    },
    {
      "cell_type": "code",
      "source": [
        "# 43. Swap two elements in a tuple.\n",
        "unswap = (1,2,3)\n",
        "print('unswap',unswap)\n",
        "swap = list(unswap)\n",
        "swap[0],swap[1] = swap[1],swap[0]\n",
        "print('swap',tuple(swap))\n",
        "# 44. Reverse the elements of a tuple.\n",
        "number = (1,2,3,4,5)\n",
        "print('numbers ',number)\n",
        "print('reverse number ',number[::-1])\n",
        "# 45. Create a tuple of the first `n` powers of 2.\n",
        "power2 = tuple(n**2 for n in range(5))\n",
        "print('first n power 2 ',power2)\n",
        "# 46. Find the longest string in a tuple of strings.\n",
        "mail = \"hello theres I hope this mail find you well my name is sahim kazi\"\n",
        "tuple_mail = list(n for n in mail.split(' '))\n",
        "length_tuple_mail = tuple({n:tuple_mail.count(n) for n in tuple_mail})\n",
        "print(length_tuple_mail)\n",
        "print(\"maximum element is \", max(length_tuple_mail,key = len))\n",
        "# 47. Find the shortest string in a tuple of strings.\n",
        "print(\"minimum element is \", min(length_tuple_mail,key = len))\n",
        "# 48. Create a tuple of the first `n` triangular numbers.\n",
        "\n",
        "# 49. Check if a tuple contains another tuple as a subsequence.\n",
        "sequence_tuple = (1,2,(1,2,3),4,5)\n",
        "flag = True\n",
        "for i in sequence_tuple:\n",
        "  if type(i)==tuple:\n",
        "    flag=False\n",
        "if flag==True:\n",
        "  print('not contain sequence ',sequence_tuple)\n",
        "else:\n",
        "  print('contain sequence',sequence_tuple)\n",
        "# 50. Create a tuple of alternating 1s and 0s of length `n`.\n",
        "alternate_list = list()\n",
        "for i in range(10):\n",
        "  alternate_list.append(0)\n",
        "  alternate_list.append(1)\n",
        "print('Alternative tuple is ',tuple(alternate_list))\n"
      ],
      "metadata": {
        "id": "FnPcUNhRThlI",
        "colab": {
          "base_uri": "https://localhost:8080/"
        },
        "outputId": "d3238042-3aae-4519-d06e-4d09ba20a975"
      },
      "execution_count": 14,
      "outputs": [
        {
          "output_type": "stream",
          "name": "stdout",
          "text": [
            "unswap (1, 2, 3)\n",
            "swap (2, 1, 3)\n",
            "numbers  (1, 2, 3, 4, 5)\n",
            "reverse number  (5, 4, 3, 2, 1)\n",
            "first n power 2  (0, 1, 4, 9, 16)\n",
            "('hello', 'theres', 'I', 'hope', 'this', 'mail', 'find', 'you', 'well', 'my', 'name', 'is', 'sahim', 'kazi')\n",
            "maximum element is  theres\n",
            "minimum element is  I\n",
            "contain sequence (1, 2, (1, 2, 3), 4, 5)\n",
            "Alternative tuple is  (0, 1, 0, 1, 0, 1, 0, 1, 0, 1, 0, 1, 0, 1, 0, 1, 0, 1, 0, 1)\n"
          ]
        }
      ]
    },
    {
      "cell_type": "code",
      "source": [],
      "metadata": {
        "id": "_ruGicjdZ_n_"
      },
      "execution_count": null,
      "outputs": []
    }
  ]
}